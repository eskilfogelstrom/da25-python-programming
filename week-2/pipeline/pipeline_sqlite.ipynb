{
 "cells": [
  {
   "cell_type": "markdown",
   "id": "61b2c88c-c017-4e6c-8b7e-b8f0562189f5",
   "metadata": {},
   "source": [
    "# Analysing output from sqlite pipeline"
   ]
  },
  {
   "cell_type": "code",
   "execution_count": 1,
   "id": "b7afe341-06cc-4f70-b9c4-ef4171582fa5",
   "metadata": {
    "tags": []
   },
   "outputs": [],
   "source": [
    "import pandas as pd\n",
    "import sqlite3"
   ]
  },
  {
   "cell_type": "markdown",
   "id": "c9883768-c5bd-4d79-bc55-1b183aa5699f",
   "metadata": {},
   "source": [
    "## 1. Load in data from local SQL db"
   ]
  },
  {
   "cell_type": "code",
   "execution_count": 14,
   "id": "ff076089-1822-4e2a-9627-2e803d2491c5",
   "metadata": {
    "tags": []
   },
   "outputs": [
    {
     "name": "stdout",
     "output_type": "stream",
     "text": [
      "<class 'pandas.core.frame.DataFrame'>\n",
      "RangeIndex: 317 entries, 0 to 316\n",
      "Data columns (total 6 columns):\n",
      " #   Column    Non-Null Count  Dtype  \n",
      "---  ------    --------------  -----  \n",
      " 0   index     317 non-null    int64  \n",
      " 1   id        317 non-null    object \n",
      " 2   currency  317 non-null    object \n",
      " 3   customer  317 non-null    object \n",
      " 4   total     317 non-null    float64\n",
      " 5   date      317 non-null    object \n",
      "dtypes: float64(1), int64(1), object(4)\n",
      "memory usage: 15.0+ KB\n"
     ]
    }
   ],
   "source": [
    "con = sqlite3.connect(\"dwh/db\")\n",
    "\n",
    "df = pd.read_sql_query(\"select * from fact_invoices\", con)\n",
    "\n",
    "df.info()\n",
    "\n",
    "con.close()"
   ]
  },
  {
   "cell_type": "markdown",
   "id": "4a7f9b24-056d-4d43-9e8d-67977ce6df48",
   "metadata": {},
   "source": [
    "## 2. Calculate average order value\n",
    "Since we already converted total to the proper values in our pipeline no further transformation is needed."
   ]
  },
  {
   "cell_type": "code",
   "execution_count": 44,
   "id": "275e4dce-2c9e-43da-98f5-2b311e79b061",
   "metadata": {
    "tags": []
   },
   "outputs": [
    {
     "data": {
      "text/plain": [
       "452.3659305993691"
      ]
     },
     "execution_count": 44,
     "metadata": {},
     "output_type": "execute_result"
    }
   ],
   "source": [
    "df[\"total\"].mean()"
   ]
  },
  {
   "cell_type": "markdown",
   "id": "f42c5d01-c15a-4c1f-a174-54d89d730cbb",
   "metadata": {},
   "source": [
    "## 3. Joining multiple tables to calculate revenue per market"
   ]
  },
  {
   "cell_type": "markdown",
   "id": "3862ada5-c940-470b-9b74-1f583ff1ff81",
   "metadata": {},
   "source": [
    "### 3.1 Using SQL to join"
   ]
  },
  {
   "cell_type": "code",
   "execution_count": 16,
   "id": "3796443b-473e-40b0-9fea-81f1a9ffab9b",
   "metadata": {
    "tags": []
   },
   "outputs": [
    {
     "name": "stdout",
     "output_type": "stream",
     "text": [
      "<class 'pandas.core.frame.DataFrame'>\n",
      "RangeIndex: 317 entries, 0 to 316\n",
      "Data columns (total 9 columns):\n",
      " #   Column       Non-Null Count  Dtype  \n",
      "---  ------       --------------  -----  \n",
      " 0   id           317 non-null    object \n",
      " 1   currency     317 non-null    object \n",
      " 2   customer     317 non-null    object \n",
      " 3   total        317 non-null    float64\n",
      " 4   date         317 non-null    object \n",
      " 5   id_customer  317 non-null    object \n",
      " 6   name         317 non-null    object \n",
      " 7   email        317 non-null    object \n",
      " 8   country      317 non-null    object \n",
      "dtypes: float64(1), object(8)\n",
      "memory usage: 22.4+ KB\n"
     ]
    }
   ],
   "source": [
    "con = sqlite3.connect(\"dwh/db\")\n",
    "\n",
    "df = pd.read_sql_query(\"\"\"\n",
    "select\n",
    "    i.id,\n",
    "    i.currency,\n",
    "    i.customer,\n",
    "    i.total,\n",
    "    i.date,\n",
    "    c.id as id_customer,\n",
    "    c.name,\n",
    "    c.email,\n",
    "    c.country\n",
    "from fact_invoices as i\n",
    "left join dim_customer as c\n",
    "    on i.customer = c.id\n",
    "\"\"\", con)\n",
    "\n",
    "df.info()\n",
    "\n",
    "con.close()"
   ]
  },
  {
   "cell_type": "markdown",
   "id": "db24786d-a6ab-413c-b59c-68bae4559bee",
   "metadata": {},
   "source": [
    "### 3.2 Using pandas to join"
   ]
  },
  {
   "cell_type": "code",
   "execution_count": 23,
   "id": "0d88370a-89b8-4c15-a86d-e153ae33c5b2",
   "metadata": {
    "tags": []
   },
   "outputs": [
    {
     "name": "stdout",
     "output_type": "stream",
     "text": [
      "<class 'pandas.core.frame.DataFrame'>\n",
      "RangeIndex: 317 entries, 0 to 316\n",
      "Data columns (total 9 columns):\n",
      " #   Column       Non-Null Count  Dtype  \n",
      "---  ------       --------------  -----  \n",
      " 0   id           317 non-null    object \n",
      " 1   currency     317 non-null    object \n",
      " 2   customer     317 non-null    object \n",
      " 3   total        317 non-null    float64\n",
      " 4   date         317 non-null    object \n",
      " 5   id_customer  317 non-null    object \n",
      " 6   name         317 non-null    object \n",
      " 7   email        317 non-null    object \n",
      " 8   country      317 non-null    object \n",
      "dtypes: float64(1), object(8)\n",
      "memory usage: 22.4+ KB\n"
     ]
    }
   ],
   "source": [
    "con = sqlite3.connect(\"dwh/db\")\n",
    "\n",
    "in_df = pd.read_sql_query(\"select * from fact_invoices\", con)\n",
    "cu_df = pd.read_sql_query(\"select * from dim_customer\", con)\n",
    "\n",
    "df = in_df.merge(cu_df, left_on=\"customer\", right_on=\"id\", suffixes=[None, \"_customer\"])\n",
    "\n",
    "df.info()"
   ]
  },
  {
   "cell_type": "markdown",
   "id": "2000492a-5e15-4a85-b07f-2c15f416fe97",
   "metadata": {},
   "source": [
    "### 3.3 Calculating revenue per country"
   ]
  },
  {
   "cell_type": "code",
   "execution_count": 26,
   "id": "f31aaa76-ca41-4333-9bd3-6bb5ed43bb99",
   "metadata": {
    "tags": []
   },
   "outputs": [
    {
     "data": {
      "text/plain": [
       "<Axes: xlabel='country'>"
      ]
     },
     "execution_count": 26,
     "metadata": {},
     "output_type": "execute_result"
    },
    {
     "data": {
      "image/png": "[encoded data removed]",
      "text/plain": [
       "<Figure size 640x480 with 1 Axes>"
      ]
     },
     "metadata": {},
     "output_type": "display_data"
    }
   ],
   "source": [
    "total_by_country = df.groupby(\"country\")[\"total\"].sum()\n",
    "\n",
    "total_by_country.plot.bar()"
   ]
  }
 ],
 "metadata": {
  "kernelspec": {
   "display_name": "Python 3 (ipykernel)",
   "language": "python",
   "name": "python3"
  },
  "language_info": {
   "codemirror_mode": {
    "name": "ipython",
    "version": 3
   },
   "file_extension": ".py",
   "mimetype": "text/x-python",
   "name": "python",
   "nbconvert_exporter": "python",
   "pygments_lexer": "ipython3",
   "version": "3.11.5"
  }
 },
 "nbformat": 4,
 "nbformat_minor": 5
}
