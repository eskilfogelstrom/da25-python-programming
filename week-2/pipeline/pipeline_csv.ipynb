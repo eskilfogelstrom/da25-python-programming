{
 "cells": [
  {
   "cell_type": "markdown",
   "id": "61b2c88c-c017-4e6c-8b7e-b8f0562189f5",
   "metadata": {},
   "source": [
    "# Analysing output from CSV pipeline"
   ]
  },
  {
   "cell_type": "code",
   "execution_count": 1,
   "id": "b7afe341-06cc-4f70-b9c4-ef4171582fa5",
   "metadata": {
    "tags": []
   },
   "outputs": [],
   "source": [
    "import pandas as pd\n",
    "from datetime import datetime"
   ]
  },
  {
   "cell_type": "markdown",
   "id": "c9883768-c5bd-4d79-bc55-1b183aa5699f",
   "metadata": {},
   "source": [
    "## 1. Load in data from transformed CSV"
   ]
  },
  {
   "cell_type": "code",
   "execution_count": 2,
   "id": "8ee6a0e1-d75f-4977-8a07-c96917e0e216",
   "metadata": {
    "tags": []
   },
   "outputs": [
    {
     "name": "stdout",
     "output_type": "stream",
     "text": [
      "<class 'pandas.core.frame.DataFrame'>\n",
      "RangeIndex: 317 entries, 0 to 316\n",
      "Data columns (total 6 columns):\n",
      " #   Column      Non-Null Count  Dtype  \n",
      "---  ------      --------------  -----  \n",
      " 0   Unnamed: 0  317 non-null    int64  \n",
      " 1   id          317 non-null    object \n",
      " 2   currency    317 non-null    object \n",
      " 3   customer    317 non-null    object \n",
      " 4   total       317 non-null    float64\n",
      " 5   date        317 non-null    object \n",
      "dtypes: float64(1), int64(1), object(4)\n",
      "memory usage: 15.0+ KB\n"
     ]
    }
   ],
   "source": [
    "df = pd.read_csv(\"dwh/fact_invoices.csv\")\n",
    "\n",
    "df.info()"
   ]
  },
  {
   "cell_type": "markdown",
   "id": "4a7f9b24-056d-4d43-9e8d-67977ce6df48",
   "metadata": {},
   "source": [
    "## 2. Calculate average order value\n",
    "Since we already converted total to the proper values in our pipeline no further transformation is needed."
   ]
  },
  {
   "cell_type": "code",
   "execution_count": 3,
   "id": "275e4dce-2c9e-43da-98f5-2b311e79b061",
   "metadata": {
    "tags": []
   },
   "outputs": [
    {
     "data": {
      "text/plain": [
       "452.3659305993691"
      ]
     },
     "execution_count": 3,
     "metadata": {},
     "output_type": "execute_result"
    }
   ],
   "source": [
    "df[\"total\"].mean()"
   ]
  }
 ],
 "metadata": {
  "kernelspec": {
   "display_name": "Python 3 (ipykernel)",
   "language": "python",
   "name": "python3"
  },
  "language_info": {
   "codemirror_mode": {
    "name": "ipython",
    "version": 3
   },
   "file_extension": ".py",
   "mimetype": "text/x-python",
   "name": "python",
   "nbconvert_exporter": "python",
   "pygments_lexer": "ipython3",
   "version": "3.11.5"
  }
 },
 "nbformat": 4,
 "nbformat_minor": 5
}
