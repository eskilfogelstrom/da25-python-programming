{
 "cells": [
  {
   "cell_type": "markdown",
   "id": "39b9012d-6341-4022-b140-33a7f574b722",
   "metadata": {},
   "source": [
    "# Analysing IMDB Top 1000 movies using pandas\n",
    "We'll be doing some transformation here where we override to original dataframe's values. This is not recommended as it will make your code most likely break the second time you run it. Just did it here to keep it simple\n",
    "\n",
    "## 1. Loading the CSV and creating a DataFrame"
   ]
  },
  {
   "cell_type": "code",
   "execution_count": 1,
   "id": "9b6fbc42-9c0e-4a9f-92f6-83f13e77cbaf",
   "metadata": {},
   "outputs": [
    {
     "name": "stdout",
     "output_type": "stream",
     "text": [
      "<class 'pandas.core.frame.DataFrame'>\n",
      "RangeIndex: 1000 entries, 0 to 999\n",
      "Data columns (total 16 columns):\n",
      " #   Column         Non-Null Count  Dtype  \n",
      "---  ------         --------------  -----  \n",
      " 0   Poster_Link    1000 non-null   object \n",
      " 1   Series_Title   1000 non-null   object \n",
      " 2   Released_Year  1000 non-null   object \n",
      " 3   Certificate    899 non-null    object \n",
      " 4   Runtime        1000 non-null   object \n",
      " 5   Genre          1000 non-null   object \n",
      " 6   IMDB_Rating    1000 non-null   float64\n",
      " 7   Overview       1000 non-null   object \n",
      " 8   Meta_score     843 non-null    float64\n",
      " 9   Director       1000 non-null   object \n",
      " 10  Star1          1000 non-null   object \n",
      " 11  Star2          1000 non-null   object \n",
      " 12  Star3          1000 non-null   object \n",
      " 13  Star4          1000 non-null   object \n",
      " 14  No_of_Votes    1000 non-null   int64  \n",
      " 15  Gross          831 non-null    object \n",
      "dtypes: float64(2), int64(1), object(13)\n",
      "memory usage: 125.1+ KB\n"
     ]
    },
    {
     "data": {
      "text/html": [
       "<div>\n",
       "<style scoped>\n",
       "    .dataframe tbody tr th:only-of-type {\n",
       "        vertical-align: middle;\n",
       "    }\n",
       "\n",
       "    .dataframe tbody tr th {\n",
       "        vertical-align: top;\n",
       "    }\n",
       "\n",
       "    .dataframe thead th {\n",
       "        text-align: right;\n",
       "    }\n",
       "</style>\n",
       "<table border=\"1\" class=\"dataframe\">\n",
       "  <thead>\n",
       "    <tr style=\"text-align: right;\">\n",
       "      <th></th>\n",
       "      <th>Poster_Link</th>\n",
       "      <th>Series_Title</th>\n",
       "      <th>Released_Year</th>\n",
       "      <th>Certificate</th>\n",
       "      <th>Runtime</th>\n",
       "      <th>Genre</th>\n",
       "      <th>IMDB_Rating</th>\n",
       "      <th>Overview</th>\n",
       "      <th>Meta_score</th>\n",
       "      <th>Director</th>\n",
       "      <th>Star1</th>\n",
       "      <th>Star2</th>\n",
       "      <th>Star3</th>\n",
       "      <th>Star4</th>\n",
       "      <th>No_of_Votes</th>\n",
       "      <th>Gross</th>\n",
       "    </tr>\n",
       "  </thead>\n",
       "  <tbody>\n",
       "    <tr>\n",
       "      <th>0</th>\n",
       "      <td>https://m.media-amazon.com/images/M/MV5BMDFkYT...</td>\n",
       "      <td>The Shawshank Redemption</td>\n",
       "      <td>1994</td>\n",
       "      <td>A</td>\n",
       "      <td>142 min</td>\n",
       "      <td>Drama</td>\n",
       "      <td>9.3</td>\n",
       "      <td>Two imprisoned men bond over a number of years...</td>\n",
       "      <td>80.0</td>\n",
       "      <td>Frank Darabont</td>\n",
       "      <td>Tim Robbins</td>\n",
       "      <td>Morgan Freeman</td>\n",
       "      <td>Bob Gunton</td>\n",
       "      <td>William Sadler</td>\n",
       "      <td>2343110</td>\n",
       "      <td>28,341,469</td>\n",
       "    </tr>\n",
       "    <tr>\n",
       "      <th>1</th>\n",
       "      <td>https://m.media-amazon.com/images/M/MV5BM2MyNj...</td>\n",
       "      <td>The Godfather</td>\n",
       "      <td>1972</td>\n",
       "      <td>A</td>\n",
       "      <td>175 min</td>\n",
       "      <td>Crime, Drama</td>\n",
       "      <td>9.2</td>\n",
       "      <td>An organized crime dynasty's aging patriarch t...</td>\n",
       "      <td>100.0</td>\n",
       "      <td>Francis Ford Coppola</td>\n",
       "      <td>Marlon Brando</td>\n",
       "      <td>Al Pacino</td>\n",
       "      <td>James Caan</td>\n",
       "      <td>Diane Keaton</td>\n",
       "      <td>1620367</td>\n",
       "      <td>134,966,411</td>\n",
       "    </tr>\n",
       "    <tr>\n",
       "      <th>2</th>\n",
       "      <td>https://m.media-amazon.com/images/M/MV5BMTMxNT...</td>\n",
       "      <td>The Dark Knight</td>\n",
       "      <td>2008</td>\n",
       "      <td>UA</td>\n",
       "      <td>152 min</td>\n",
       "      <td>Action, Crime, Drama</td>\n",
       "      <td>9.0</td>\n",
       "      <td>When the menace known as the Joker wreaks havo...</td>\n",
       "      <td>84.0</td>\n",
       "      <td>Christopher Nolan</td>\n",
       "      <td>Christian Bale</td>\n",
       "      <td>Heath Ledger</td>\n",
       "      <td>Aaron Eckhart</td>\n",
       "      <td>Michael Caine</td>\n",
       "      <td>2303232</td>\n",
       "      <td>534,858,444</td>\n",
       "    </tr>\n",
       "    <tr>\n",
       "      <th>3</th>\n",
       "      <td>https://m.media-amazon.com/images/M/MV5BMWMwMG...</td>\n",
       "      <td>The Godfather: Part II</td>\n",
       "      <td>1974</td>\n",
       "      <td>A</td>\n",
       "      <td>202 min</td>\n",
       "      <td>Crime, Drama</td>\n",
       "      <td>9.0</td>\n",
       "      <td>The early life and career of Vito Corleone in ...</td>\n",
       "      <td>90.0</td>\n",
       "      <td>Francis Ford Coppola</td>\n",
       "      <td>Al Pacino</td>\n",
       "      <td>Robert De Niro</td>\n",
       "      <td>Robert Duvall</td>\n",
       "      <td>Diane Keaton</td>\n",
       "      <td>1129952</td>\n",
       "      <td>57,300,000</td>\n",
       "    </tr>\n",
       "    <tr>\n",
       "      <th>4</th>\n",
       "      <td>https://m.media-amazon.com/images/M/MV5BMWU4N2...</td>\n",
       "      <td>12 Angry Men</td>\n",
       "      <td>1957</td>\n",
       "      <td>U</td>\n",
       "      <td>96 min</td>\n",
       "      <td>Crime, Drama</td>\n",
       "      <td>9.0</td>\n",
       "      <td>A jury holdout attempts to prevent a miscarria...</td>\n",
       "      <td>96.0</td>\n",
       "      <td>Sidney Lumet</td>\n",
       "      <td>Henry Fonda</td>\n",
       "      <td>Lee J. Cobb</td>\n",
       "      <td>Martin Balsam</td>\n",
       "      <td>John Fiedler</td>\n",
       "      <td>689845</td>\n",
       "      <td>4,360,000</td>\n",
       "    </tr>\n",
       "  </tbody>\n",
       "</table>\n",
       "</div>"
      ],
      "text/plain": [
       "                                         Poster_Link  \\\n",
       "0  https://m.media-amazon.com/images/M/MV5BMDFkYT...   \n",
       "1  https://m.media-amazon.com/images/M/MV5BM2MyNj...   \n",
       "2  https://m.media-amazon.com/images/M/MV5BMTMxNT...   \n",
       "3  https://m.media-amazon.com/images/M/MV5BMWMwMG...   \n",
       "4  https://m.media-amazon.com/images/M/MV5BMWU4N2...   \n",
       "\n",
       "               Series_Title Released_Year Certificate  Runtime  \\\n",
       "0  The Shawshank Redemption          1994           A  142 min   \n",
       "1             The Godfather          1972           A  175 min   \n",
       "2           The Dark Knight          2008          UA  152 min   \n",
       "3    The Godfather: Part II          1974           A  202 min   \n",
       "4              12 Angry Men          1957           U   96 min   \n",
       "\n",
       "                  Genre  IMDB_Rating  \\\n",
       "0                 Drama          9.3   \n",
       "1          Crime, Drama          9.2   \n",
       "2  Action, Crime, Drama          9.0   \n",
       "3          Crime, Drama          9.0   \n",
       "4          Crime, Drama          9.0   \n",
       "\n",
       "                                            Overview  Meta_score  \\\n",
       "0  Two imprisoned men bond over a number of years...        80.0   \n",
       "1  An organized crime dynasty's aging patriarch t...       100.0   \n",
       "2  When the menace known as the Joker wreaks havo...        84.0   \n",
       "3  The early life and career of Vito Corleone in ...        90.0   \n",
       "4  A jury holdout attempts to prevent a miscarria...        96.0   \n",
       "\n",
       "               Director           Star1           Star2          Star3  \\\n",
       "0        Frank Darabont     Tim Robbins  Morgan Freeman     Bob Gunton   \n",
       "1  Francis Ford Coppola   Marlon Brando       Al Pacino     James Caan   \n",
       "2     Christopher Nolan  Christian Bale    Heath Ledger  Aaron Eckhart   \n",
       "3  Francis Ford Coppola       Al Pacino  Robert De Niro  Robert Duvall   \n",
       "4          Sidney Lumet     Henry Fonda     Lee J. Cobb  Martin Balsam   \n",
       "\n",
       "            Star4  No_of_Votes        Gross  \n",
       "0  William Sadler      2343110   28,341,469  \n",
       "1    Diane Keaton      1620367  134,966,411  \n",
       "2   Michael Caine      2303232  534,858,444  \n",
       "3    Diane Keaton      1129952   57,300,000  \n",
       "4    John Fiedler       689845    4,360,000  "
      ]
     },
     "execution_count": 1,
     "metadata": {},
     "output_type": "execute_result"
    }
   ],
   "source": [
    "import pandas as pd\n",
    "\n",
    "df = pd.read_csv(\"imdb_top_1000.csv\")\n",
    "\n",
    "df.info() # Prints all columns and what data type they're in\n",
    "df.head(5) # Print first 5 rows"
   ]
  },
  {
   "cell_type": "markdown",
   "id": "71857c9f-e0fd-4966-a37a-de0011452117",
   "metadata": {},
   "source": [
    "## 2. Analysing data"
   ]
  },
  {
   "cell_type": "markdown",
   "id": "a9ba8b4f-b1c1-4e31-9eb3-777039e7324a",
   "metadata": {},
   "source": [
    "### 2.1 Find the average IMDB rating"
   ]
  },
  {
   "cell_type": "code",
   "execution_count": 2,
   "id": "9586a9ce-a44f-4ba1-9f46-c1cbbdcda5d8",
   "metadata": {},
   "outputs": [
    {
     "data": {
      "text/plain": [
       "7.949299999999999"
      ]
     },
     "execution_count": 2,
     "metadata": {},
     "output_type": "execute_result"
    }
   ],
   "source": [
    "rating_col = df[\"IMDB_Rating\"] # Get the \"IMDB_Rating\" column which will return a Series\n",
    "rating_col.mean() # Series has a method `mean()` to get the average\n",
    "\n",
    "# Can also be done in one line\n",
    "df[\"IMDB_Rating\"].mean()"
   ]
  },
  {
   "cell_type": "markdown",
   "id": "3d85361f-725e-401a-80f7-5fbab9f7de72",
   "metadata": {},
   "source": [
    "### 2.2 Find count of movies by director \"Quentin Tarantino\""
   ]
  },
  {
   "cell_type": "code",
   "execution_count": 3,
   "id": "81137511-6dee-44e6-ba88-8eeeb8909e08",
   "metadata": {},
   "outputs": [
    {
     "name": "stdout",
     "output_type": "stream",
     "text": [
      "0      False\n",
      "1      False\n",
      "2      False\n",
      "3      False\n",
      "4      False\n",
      "       ...  \n",
      "995    False\n",
      "996    False\n",
      "997    False\n",
      "998    False\n",
      "999    False\n",
      "Name: Director, Length: 1000, dtype: bool\n"
     ]
    }
   ],
   "source": [
    "director_col = df[\"Director\"] # Get the \"Director\" column which will return a Series\n",
    "\n",
    "# Applying a boolean operator on a Series creates a new Series with True/False values\n",
    "# depending on if the item matches our condition\n",
    "qt_filter = director_col == \"Quentin Tarantino\"\n",
    "print(qt_filter)"
   ]
  },
  {
   "cell_type": "code",
   "execution_count": 4,
   "id": "6a8201e8-8806-42d0-a90a-07f34107fa3a",
   "metadata": {},
   "outputs": [
    {
     "data": {
      "text/html": [
       "<div>\n",
       "<style scoped>\n",
       "    .dataframe tbody tr th:only-of-type {\n",
       "        vertical-align: middle;\n",
       "    }\n",
       "\n",
       "    .dataframe tbody tr th {\n",
       "        vertical-align: top;\n",
       "    }\n",
       "\n",
       "    .dataframe thead th {\n",
       "        text-align: right;\n",
       "    }\n",
       "</style>\n",
       "<table border=\"1\" class=\"dataframe\">\n",
       "  <thead>\n",
       "    <tr style=\"text-align: right;\">\n",
       "      <th></th>\n",
       "      <th>Poster_Link</th>\n",
       "      <th>Series_Title</th>\n",
       "      <th>Released_Year</th>\n",
       "      <th>Certificate</th>\n",
       "      <th>Runtime</th>\n",
       "      <th>Genre</th>\n",
       "      <th>IMDB_Rating</th>\n",
       "      <th>Overview</th>\n",
       "      <th>Meta_score</th>\n",
       "      <th>Director</th>\n",
       "      <th>Star1</th>\n",
       "      <th>Star2</th>\n",
       "      <th>Star3</th>\n",
       "      <th>Star4</th>\n",
       "      <th>No_of_Votes</th>\n",
       "      <th>Gross</th>\n",
       "    </tr>\n",
       "  </thead>\n",
       "  <tbody>\n",
       "    <tr>\n",
       "      <th>6</th>\n",
       "      <td>https://m.media-amazon.com/images/M/MV5BNGNhMD...</td>\n",
       "      <td>Pulp Fiction</td>\n",
       "      <td>1994</td>\n",
       "      <td>A</td>\n",
       "      <td>154 min</td>\n",
       "      <td>Crime, Drama</td>\n",
       "      <td>8.9</td>\n",
       "      <td>The lives of two mob hitmen, a boxer, a gangst...</td>\n",
       "      <td>94.0</td>\n",
       "      <td>Quentin Tarantino</td>\n",
       "      <td>John Travolta</td>\n",
       "      <td>Uma Thurman</td>\n",
       "      <td>Samuel L. Jackson</td>\n",
       "      <td>Bruce Willis</td>\n",
       "      <td>1826188</td>\n",
       "      <td>107,928,762</td>\n",
       "    </tr>\n",
       "    <tr>\n",
       "      <th>62</th>\n",
       "      <td>https://m.media-amazon.com/images/M/MV5BMjIyNT...</td>\n",
       "      <td>Django Unchained</td>\n",
       "      <td>2012</td>\n",
       "      <td>A</td>\n",
       "      <td>165 min</td>\n",
       "      <td>Drama, Western</td>\n",
       "      <td>8.4</td>\n",
       "      <td>With the help of a German bounty hunter, a fre...</td>\n",
       "      <td>81.0</td>\n",
       "      <td>Quentin Tarantino</td>\n",
       "      <td>Jamie Foxx</td>\n",
       "      <td>Christoph Waltz</td>\n",
       "      <td>Leonardo DiCaprio</td>\n",
       "      <td>Kerry Washington</td>\n",
       "      <td>1357682</td>\n",
       "      <td>162,805,434</td>\n",
       "    </tr>\n",
       "    <tr>\n",
       "      <th>93</th>\n",
       "      <td>https://m.media-amazon.com/images/M/MV5BOTJiND...</td>\n",
       "      <td>Inglourious Basterds</td>\n",
       "      <td>2009</td>\n",
       "      <td>A</td>\n",
       "      <td>153 min</td>\n",
       "      <td>Adventure, Drama, War</td>\n",
       "      <td>8.3</td>\n",
       "      <td>In Nazi-occupied France during World War II, a...</td>\n",
       "      <td>69.0</td>\n",
       "      <td>Quentin Tarantino</td>\n",
       "      <td>Brad Pitt</td>\n",
       "      <td>Diane Kruger</td>\n",
       "      <td>Eli Roth</td>\n",
       "      <td>Mélanie Laurent</td>\n",
       "      <td>1267869</td>\n",
       "      <td>120,540,719</td>\n",
       "    </tr>\n",
       "    <tr>\n",
       "      <th>103</th>\n",
       "      <td>https://m.media-amazon.com/images/M/MV5BZmExNm...</td>\n",
       "      <td>Reservoir Dogs</td>\n",
       "      <td>1992</td>\n",
       "      <td>R</td>\n",
       "      <td>99 min</td>\n",
       "      <td>Crime, Drama, Thriller</td>\n",
       "      <td>8.3</td>\n",
       "      <td>When a simple jewelry heist goes horribly wron...</td>\n",
       "      <td>79.0</td>\n",
       "      <td>Quentin Tarantino</td>\n",
       "      <td>Harvey Keitel</td>\n",
       "      <td>Tim Roth</td>\n",
       "      <td>Michael Madsen</td>\n",
       "      <td>Chris Penn</td>\n",
       "      <td>918562</td>\n",
       "      <td>2,832,029</td>\n",
       "    </tr>\n",
       "    <tr>\n",
       "      <th>241</th>\n",
       "      <td>https://m.media-amazon.com/images/M/MV5BNzM3ND...</td>\n",
       "      <td>Kill Bill: Vol. 1</td>\n",
       "      <td>2003</td>\n",
       "      <td>R</td>\n",
       "      <td>111 min</td>\n",
       "      <td>Action, Crime, Drama</td>\n",
       "      <td>8.1</td>\n",
       "      <td>After awakening from a four-year coma, a forme...</td>\n",
       "      <td>69.0</td>\n",
       "      <td>Quentin Tarantino</td>\n",
       "      <td>Uma Thurman</td>\n",
       "      <td>David Carradine</td>\n",
       "      <td>Daryl Hannah</td>\n",
       "      <td>Michael Madsen</td>\n",
       "      <td>1000639</td>\n",
       "      <td>70,099,045</td>\n",
       "    </tr>\n",
       "  </tbody>\n",
       "</table>\n",
       "</div>"
      ],
      "text/plain": [
       "                                           Poster_Link          Series_Title  \\\n",
       "6    https://m.media-amazon.com/images/M/MV5BNGNhMD...          Pulp Fiction   \n",
       "62   https://m.media-amazon.com/images/M/MV5BMjIyNT...      Django Unchained   \n",
       "93   https://m.media-amazon.com/images/M/MV5BOTJiND...  Inglourious Basterds   \n",
       "103  https://m.media-amazon.com/images/M/MV5BZmExNm...        Reservoir Dogs   \n",
       "241  https://m.media-amazon.com/images/M/MV5BNzM3ND...     Kill Bill: Vol. 1   \n",
       "\n",
       "    Released_Year Certificate  Runtime                   Genre  IMDB_Rating  \\\n",
       "6            1994           A  154 min            Crime, Drama          8.9   \n",
       "62           2012           A  165 min          Drama, Western          8.4   \n",
       "93           2009           A  153 min   Adventure, Drama, War          8.3   \n",
       "103          1992           R   99 min  Crime, Drama, Thriller          8.3   \n",
       "241          2003           R  111 min    Action, Crime, Drama          8.1   \n",
       "\n",
       "                                              Overview  Meta_score  \\\n",
       "6    The lives of two mob hitmen, a boxer, a gangst...        94.0   \n",
       "62   With the help of a German bounty hunter, a fre...        81.0   \n",
       "93   In Nazi-occupied France during World War II, a...        69.0   \n",
       "103  When a simple jewelry heist goes horribly wron...        79.0   \n",
       "241  After awakening from a four-year coma, a forme...        69.0   \n",
       "\n",
       "              Director          Star1            Star2              Star3  \\\n",
       "6    Quentin Tarantino  John Travolta      Uma Thurman  Samuel L. Jackson   \n",
       "62   Quentin Tarantino     Jamie Foxx  Christoph Waltz  Leonardo DiCaprio   \n",
       "93   Quentin Tarantino      Brad Pitt     Diane Kruger           Eli Roth   \n",
       "103  Quentin Tarantino  Harvey Keitel         Tim Roth     Michael Madsen   \n",
       "241  Quentin Tarantino    Uma Thurman  David Carradine       Daryl Hannah   \n",
       "\n",
       "                Star4  No_of_Votes        Gross  \n",
       "6        Bruce Willis      1826188  107,928,762  \n",
       "62   Kerry Washington      1357682  162,805,434  \n",
       "93    Mélanie Laurent      1267869  120,540,719  \n",
       "103        Chris Penn       918562    2,832,029  \n",
       "241    Michael Madsen      1000639   70,099,045  "
      ]
     },
     "execution_count": 4,
     "metadata": {},
     "output_type": "execute_result"
    }
   ],
   "source": [
    "# We can pass this Series of boolean to our dataframe to create a new DataFrame with only those movies in it\n",
    "qt_movies = df[qt_filter]\n",
    "qt_movies.head()"
   ]
  },
  {
   "cell_type": "code",
   "execution_count": 5,
   "id": "923e65c2-7706-41ca-a566-094bc1bac24c",
   "metadata": {},
   "outputs": [
    {
     "name": "stdout",
     "output_type": "stream",
     "text": [
      "8\n"
     ]
    }
   ],
   "source": [
    "# We can use the `len()` to get the amount of rows in a DataFrame\n",
    "print(len(qt_movies))"
   ]
  },
  {
   "cell_type": "markdown",
   "id": "58854834-c6bd-42f6-bfe0-7c5f12d7bd29",
   "metadata": {},
   "source": [
    "### 2.3 Find the lowest rated movie"
   ]
  },
  {
   "cell_type": "code",
   "execution_count": 6,
   "id": "31533230-8294-49b3-b392-34d40cf445f4",
   "metadata": {},
   "outputs": [
    {
     "data": {
      "text/html": [
       "<div>\n",
       "<style scoped>\n",
       "    .dataframe tbody tr th:only-of-type {\n",
       "        vertical-align: middle;\n",
       "    }\n",
       "\n",
       "    .dataframe tbody tr th {\n",
       "        vertical-align: top;\n",
       "    }\n",
       "\n",
       "    .dataframe thead th {\n",
       "        text-align: right;\n",
       "    }\n",
       "</style>\n",
       "<table border=\"1\" class=\"dataframe\">\n",
       "  <thead>\n",
       "    <tr style=\"text-align: right;\">\n",
       "      <th></th>\n",
       "      <th>Poster_Link</th>\n",
       "      <th>Series_Title</th>\n",
       "      <th>Released_Year</th>\n",
       "      <th>Certificate</th>\n",
       "      <th>Runtime</th>\n",
       "      <th>Genre</th>\n",
       "      <th>IMDB_Rating</th>\n",
       "      <th>Overview</th>\n",
       "      <th>Meta_score</th>\n",
       "      <th>Director</th>\n",
       "      <th>Star1</th>\n",
       "      <th>Star2</th>\n",
       "      <th>Star3</th>\n",
       "      <th>Star4</th>\n",
       "      <th>No_of_Votes</th>\n",
       "      <th>Gross</th>\n",
       "    </tr>\n",
       "  </thead>\n",
       "  <tbody>\n",
       "    <tr>\n",
       "      <th>999</th>\n",
       "      <td>https://m.media-amazon.com/images/M/MV5BMTY5OD...</td>\n",
       "      <td>The 39 Steps</td>\n",
       "      <td>1935</td>\n",
       "      <td>NaN</td>\n",
       "      <td>86 min</td>\n",
       "      <td>Crime, Mystery, Thriller</td>\n",
       "      <td>7.6</td>\n",
       "      <td>A man in London tries to help a counter-espion...</td>\n",
       "      <td>93.0</td>\n",
       "      <td>Alfred Hitchcock</td>\n",
       "      <td>Robert Donat</td>\n",
       "      <td>Madeleine Carroll</td>\n",
       "      <td>Lucie Mannheim</td>\n",
       "      <td>Godfrey Tearle</td>\n",
       "      <td>51853</td>\n",
       "      <td>NaN</td>\n",
       "    </tr>\n",
       "  </tbody>\n",
       "</table>\n",
       "</div>"
      ],
      "text/plain": [
       "                                           Poster_Link  Series_Title  \\\n",
       "999  https://m.media-amazon.com/images/M/MV5BMTY5OD...  The 39 Steps   \n",
       "\n",
       "    Released_Year Certificate Runtime                     Genre  IMDB_Rating  \\\n",
       "999          1935         NaN  86 min  Crime, Mystery, Thriller          7.6   \n",
       "\n",
       "                                              Overview  Meta_score  \\\n",
       "999  A man in London tries to help a counter-espion...        93.0   \n",
       "\n",
       "             Director         Star1              Star2           Star3  \\\n",
       "999  Alfred Hitchcock  Robert Donat  Madeleine Carroll  Lucie Mannheim   \n",
       "\n",
       "              Star4  No_of_Votes Gross  \n",
       "999  Godfrey Tearle        51853   NaN  "
      ]
     },
     "execution_count": 6,
     "metadata": {},
     "output_type": "execute_result"
    }
   ],
   "source": [
    "sorted_df = df.sort_values(\"IMDB_Rating\") # Use `sort_values()` to sort the DataFrame by a specific column\n",
    "sorted_df.head(1) # Create a new DataFrame with only the first row"
   ]
  },
  {
   "cell_type": "code",
   "execution_count": 7,
   "id": "a027c937-1337-41dc-81cd-e1b45bf7628d",
   "metadata": {},
   "outputs": [
    {
     "data": {
      "text/plain": [
       "Poster_Link      https://m.media-amazon.com/images/M/MV5BMTY5OD...\n",
       "Series_Title                                          The 39 Steps\n",
       "Released_Year                                                 1935\n",
       "Certificate                                                    NaN\n",
       "Runtime                                                     86 min\n",
       "Genre                                     Crime, Mystery, Thriller\n",
       "IMDB_Rating                                                    7.6\n",
       "Overview         A man in London tries to help a counter-espion...\n",
       "Meta_score                                                    93.0\n",
       "Director                                          Alfred Hitchcock\n",
       "Star1                                                 Robert Donat\n",
       "Star2                                            Madeleine Carroll\n",
       "Star3                                               Lucie Mannheim\n",
       "Star4                                               Godfrey Tearle\n",
       "No_of_Votes                                                  51853\n",
       "Gross                                                          NaN\n",
       "Name: 999, dtype: object"
      ]
     },
     "execution_count": 7,
     "metadata": {},
     "output_type": "execute_result"
    }
   ],
   "source": [
    "sorted_df.iloc[0] # Alternatively use `iloc` to get the first row as a Series"
   ]
  },
  {
   "cell_type": "markdown",
   "id": "77f3ce7c-d924-48a0-ba40-fec403a97fae",
   "metadata": {},
   "source": [
    "### 2.4 Find sum of gross of movies by \"Christopher Nolan\""
   ]
  },
  {
   "cell_type": "code",
   "execution_count": 8,
   "id": "ee5ef6c4-4819-4d84-9418-269eb8584bdd",
   "metadata": {},
   "outputs": [
    {
     "data": {
      "text/plain": [
       "'28,341,469'"
      ]
     },
     "execution_count": 8,
     "metadata": {},
     "output_type": "execute_result"
    }
   ],
   "source": [
    "# This one requires a bit of trickery as `Gross` is not a number by default.\n",
    "\n",
    "df[\"Gross\"][0] # Printing the first one shows that it's a string separated by \",\""
   ]
  },
  {
   "cell_type": "code",
   "execution_count": 9,
   "id": "e3019d19-238b-48c9-b8f4-3aae0e12d62f",
   "metadata": {},
   "outputs": [],
   "source": [
    "# In order to convert this into a float (which we can do arithmetic with)\n",
    "# we need to:\n",
    "# 1. Strip the commas from all the strings\n",
    "# 2. Convert the strings into a float\n",
    "\n",
    "df[\"Gross\"] = df[\"Gross\"].str.replace(\",\", \"\") # Replaces all commas with nothing aka removing them\n",
    "df[\"Gross\"] = df[\"Gross\"].astype(float) # Converting strings to float using `astype()`\n",
    "\n",
    "# NOTE: this can only be run once since we're overriding the \"Gross\" column.\n",
    "# Running it again will lead to errors"
   ]
  },
  {
   "cell_type": "code",
   "execution_count": 10,
   "id": "ca519474-2a1d-450c-ad83-4ca9738fe4ee",
   "metadata": {},
   "outputs": [
    {
     "data": {
      "text/plain": [
       "56536877976.0"
      ]
     },
     "execution_count": 10,
     "metadata": {},
     "output_type": "execute_result"
    }
   ],
   "source": [
    "# Now we can work with \"Gross\" like any other numerical column\n",
    "\n",
    "df[\"Gross\"].sum()"
   ]
  },
  {
   "cell_type": "code",
   "execution_count": 11,
   "id": "dd845986-42bf-44b2-b829-cc5d64905809",
   "metadata": {},
   "outputs": [
    {
     "data": {
      "text/html": [
       "<div>\n",
       "<style scoped>\n",
       "    .dataframe tbody tr th:only-of-type {\n",
       "        vertical-align: middle;\n",
       "    }\n",
       "\n",
       "    .dataframe tbody tr th {\n",
       "        vertical-align: top;\n",
       "    }\n",
       "\n",
       "    .dataframe thead th {\n",
       "        text-align: right;\n",
       "    }\n",
       "</style>\n",
       "<table border=\"1\" class=\"dataframe\">\n",
       "  <thead>\n",
       "    <tr style=\"text-align: right;\">\n",
       "      <th></th>\n",
       "      <th>Poster_Link</th>\n",
       "      <th>Series_Title</th>\n",
       "      <th>Released_Year</th>\n",
       "      <th>Certificate</th>\n",
       "      <th>Runtime</th>\n",
       "      <th>Genre</th>\n",
       "      <th>IMDB_Rating</th>\n",
       "      <th>Overview</th>\n",
       "      <th>Meta_score</th>\n",
       "      <th>Director</th>\n",
       "      <th>Star1</th>\n",
       "      <th>Star2</th>\n",
       "      <th>Star3</th>\n",
       "      <th>Star4</th>\n",
       "      <th>No_of_Votes</th>\n",
       "      <th>Gross</th>\n",
       "    </tr>\n",
       "  </thead>\n",
       "  <tbody>\n",
       "    <tr>\n",
       "      <th>2</th>\n",
       "      <td>https://m.media-amazon.com/images/M/MV5BMTMxNT...</td>\n",
       "      <td>The Dark Knight</td>\n",
       "      <td>2008</td>\n",
       "      <td>UA</td>\n",
       "      <td>152 min</td>\n",
       "      <td>Action, Crime, Drama</td>\n",
       "      <td>9.0</td>\n",
       "      <td>When the menace known as the Joker wreaks havo...</td>\n",
       "      <td>84.0</td>\n",
       "      <td>Christopher Nolan</td>\n",
       "      <td>Christian Bale</td>\n",
       "      <td>Heath Ledger</td>\n",
       "      <td>Aaron Eckhart</td>\n",
       "      <td>Michael Caine</td>\n",
       "      <td>2303232</td>\n",
       "      <td>534858444.0</td>\n",
       "    </tr>\n",
       "    <tr>\n",
       "      <th>8</th>\n",
       "      <td>https://m.media-amazon.com/images/M/MV5BMjAxMz...</td>\n",
       "      <td>Inception</td>\n",
       "      <td>2010</td>\n",
       "      <td>UA</td>\n",
       "      <td>148 min</td>\n",
       "      <td>Action, Adventure, Sci-Fi</td>\n",
       "      <td>8.8</td>\n",
       "      <td>A thief who steals corporate secrets through t...</td>\n",
       "      <td>74.0</td>\n",
       "      <td>Christopher Nolan</td>\n",
       "      <td>Leonardo DiCaprio</td>\n",
       "      <td>Joseph Gordon-Levitt</td>\n",
       "      <td>Elliot Page</td>\n",
       "      <td>Ken Watanabe</td>\n",
       "      <td>2067042</td>\n",
       "      <td>292576195.0</td>\n",
       "    </tr>\n",
       "    <tr>\n",
       "      <th>21</th>\n",
       "      <td>https://m.media-amazon.com/images/M/MV5BZjdkOT...</td>\n",
       "      <td>Interstellar</td>\n",
       "      <td>2014</td>\n",
       "      <td>UA</td>\n",
       "      <td>169 min</td>\n",
       "      <td>Adventure, Drama, Sci-Fi</td>\n",
       "      <td>8.6</td>\n",
       "      <td>A team of explorers travel through a wormhole ...</td>\n",
       "      <td>74.0</td>\n",
       "      <td>Christopher Nolan</td>\n",
       "      <td>Matthew McConaughey</td>\n",
       "      <td>Anne Hathaway</td>\n",
       "      <td>Jessica Chastain</td>\n",
       "      <td>Mackenzie Foy</td>\n",
       "      <td>1512360</td>\n",
       "      <td>188020017.0</td>\n",
       "    </tr>\n",
       "    <tr>\n",
       "      <th>36</th>\n",
       "      <td>https://m.media-amazon.com/images/M/MV5BMjA4ND...</td>\n",
       "      <td>The Prestige</td>\n",
       "      <td>2006</td>\n",
       "      <td>U</td>\n",
       "      <td>130 min</td>\n",
       "      <td>Drama, Mystery, Sci-Fi</td>\n",
       "      <td>8.5</td>\n",
       "      <td>After a tragic accident, two stage magicians e...</td>\n",
       "      <td>66.0</td>\n",
       "      <td>Christopher Nolan</td>\n",
       "      <td>Christian Bale</td>\n",
       "      <td>Hugh Jackman</td>\n",
       "      <td>Scarlett Johansson</td>\n",
       "      <td>Michael Caine</td>\n",
       "      <td>1190259</td>\n",
       "      <td>53089891.0</td>\n",
       "    </tr>\n",
       "    <tr>\n",
       "      <th>63</th>\n",
       "      <td>https://m.media-amazon.com/images/M/MV5BMTk4OD...</td>\n",
       "      <td>The Dark Knight Rises</td>\n",
       "      <td>2012</td>\n",
       "      <td>UA</td>\n",
       "      <td>164 min</td>\n",
       "      <td>Action, Adventure</td>\n",
       "      <td>8.4</td>\n",
       "      <td>Eight years after the Joker's reign of anarchy...</td>\n",
       "      <td>78.0</td>\n",
       "      <td>Christopher Nolan</td>\n",
       "      <td>Christian Bale</td>\n",
       "      <td>Tom Hardy</td>\n",
       "      <td>Anne Hathaway</td>\n",
       "      <td>Gary Oldman</td>\n",
       "      <td>1516346</td>\n",
       "      <td>448139099.0</td>\n",
       "    </tr>\n",
       "    <tr>\n",
       "      <th>69</th>\n",
       "      <td>https://m.media-amazon.com/images/M/MV5BZTcyNj...</td>\n",
       "      <td>Memento</td>\n",
       "      <td>2000</td>\n",
       "      <td>UA</td>\n",
       "      <td>113 min</td>\n",
       "      <td>Mystery, Thriller</td>\n",
       "      <td>8.4</td>\n",
       "      <td>A man with short-term memory loss attempts to ...</td>\n",
       "      <td>80.0</td>\n",
       "      <td>Christopher Nolan</td>\n",
       "      <td>Guy Pearce</td>\n",
       "      <td>Carrie-Anne Moss</td>\n",
       "      <td>Joe Pantoliano</td>\n",
       "      <td>Mark Boone Junior</td>\n",
       "      <td>1125712</td>\n",
       "      <td>25544867.0</td>\n",
       "    </tr>\n",
       "    <tr>\n",
       "      <th>155</th>\n",
       "      <td>https://m.media-amazon.com/images/M/MV5BOTY4Yj...</td>\n",
       "      <td>Batman Begins</td>\n",
       "      <td>2005</td>\n",
       "      <td>UA</td>\n",
       "      <td>140 min</td>\n",
       "      <td>Action, Adventure</td>\n",
       "      <td>8.2</td>\n",
       "      <td>After training with his mentor, Batman begins ...</td>\n",
       "      <td>70.0</td>\n",
       "      <td>Christopher Nolan</td>\n",
       "      <td>Christian Bale</td>\n",
       "      <td>Michael Caine</td>\n",
       "      <td>Ken Watanabe</td>\n",
       "      <td>Liam Neeson</td>\n",
       "      <td>1308302</td>\n",
       "      <td>206852432.0</td>\n",
       "    </tr>\n",
       "    <tr>\n",
       "      <th>573</th>\n",
       "      <td>https://m.media-amazon.com/images/M/MV5BN2YyZj...</td>\n",
       "      <td>Dunkirk</td>\n",
       "      <td>2017</td>\n",
       "      <td>UA</td>\n",
       "      <td>106 min</td>\n",
       "      <td>Action, Drama, History</td>\n",
       "      <td>7.8</td>\n",
       "      <td>Allied soldiers from Belgium, the British Empi...</td>\n",
       "      <td>94.0</td>\n",
       "      <td>Christopher Nolan</td>\n",
       "      <td>Fionn Whitehead</td>\n",
       "      <td>Barry Keoghan</td>\n",
       "      <td>Mark Rylance</td>\n",
       "      <td>Tom Hardy</td>\n",
       "      <td>555092</td>\n",
       "      <td>188373161.0</td>\n",
       "    </tr>\n",
       "  </tbody>\n",
       "</table>\n",
       "</div>"
      ],
      "text/plain": [
       "                                           Poster_Link           Series_Title  \\\n",
       "2    https://m.media-amazon.com/images/M/MV5BMTMxNT...        The Dark Knight   \n",
       "8    https://m.media-amazon.com/images/M/MV5BMjAxMz...              Inception   \n",
       "21   https://m.media-amazon.com/images/M/MV5BZjdkOT...           Interstellar   \n",
       "36   https://m.media-amazon.com/images/M/MV5BMjA4ND...           The Prestige   \n",
       "63   https://m.media-amazon.com/images/M/MV5BMTk4OD...  The Dark Knight Rises   \n",
       "69   https://m.media-amazon.com/images/M/MV5BZTcyNj...                Memento   \n",
       "155  https://m.media-amazon.com/images/M/MV5BOTY4Yj...          Batman Begins   \n",
       "573  https://m.media-amazon.com/images/M/MV5BN2YyZj...                Dunkirk   \n",
       "\n",
       "    Released_Year Certificate  Runtime                      Genre  \\\n",
       "2            2008          UA  152 min       Action, Crime, Drama   \n",
       "8            2010          UA  148 min  Action, Adventure, Sci-Fi   \n",
       "21           2014          UA  169 min   Adventure, Drama, Sci-Fi   \n",
       "36           2006           U  130 min     Drama, Mystery, Sci-Fi   \n",
       "63           2012          UA  164 min          Action, Adventure   \n",
       "69           2000          UA  113 min          Mystery, Thriller   \n",
       "155          2005          UA  140 min          Action, Adventure   \n",
       "573          2017          UA  106 min     Action, Drama, History   \n",
       "\n",
       "     IMDB_Rating                                           Overview  \\\n",
       "2            9.0  When the menace known as the Joker wreaks havo...   \n",
       "8            8.8  A thief who steals corporate secrets through t...   \n",
       "21           8.6  A team of explorers travel through a wormhole ...   \n",
       "36           8.5  After a tragic accident, two stage magicians e...   \n",
       "63           8.4  Eight years after the Joker's reign of anarchy...   \n",
       "69           8.4  A man with short-term memory loss attempts to ...   \n",
       "155          8.2  After training with his mentor, Batman begins ...   \n",
       "573          7.8  Allied soldiers from Belgium, the British Empi...   \n",
       "\n",
       "     Meta_score           Director                Star1                 Star2  \\\n",
       "2          84.0  Christopher Nolan       Christian Bale          Heath Ledger   \n",
       "8          74.0  Christopher Nolan    Leonardo DiCaprio  Joseph Gordon-Levitt   \n",
       "21         74.0  Christopher Nolan  Matthew McConaughey         Anne Hathaway   \n",
       "36         66.0  Christopher Nolan       Christian Bale          Hugh Jackman   \n",
       "63         78.0  Christopher Nolan       Christian Bale             Tom Hardy   \n",
       "69         80.0  Christopher Nolan           Guy Pearce      Carrie-Anne Moss   \n",
       "155        70.0  Christopher Nolan       Christian Bale         Michael Caine   \n",
       "573        94.0  Christopher Nolan      Fionn Whitehead         Barry Keoghan   \n",
       "\n",
       "                  Star3              Star4  No_of_Votes        Gross  \n",
       "2         Aaron Eckhart      Michael Caine      2303232  534858444.0  \n",
       "8           Elliot Page       Ken Watanabe      2067042  292576195.0  \n",
       "21     Jessica Chastain      Mackenzie Foy      1512360  188020017.0  \n",
       "36   Scarlett Johansson      Michael Caine      1190259   53089891.0  \n",
       "63        Anne Hathaway        Gary Oldman      1516346  448139099.0  \n",
       "69       Joe Pantoliano  Mark Boone Junior      1125712   25544867.0  \n",
       "155        Ken Watanabe        Liam Neeson      1308302  206852432.0  \n",
       "573        Mark Rylance          Tom Hardy       555092  188373161.0  "
      ]
     },
     "execution_count": 11,
     "metadata": {},
     "output_type": "execute_result"
    }
   ],
   "source": [
    "# In order to get only movies by \"Christopher Nolan\" we have to first filter those out.\n",
    "# We can do this the same way we did above with Quentin Tarantino\n",
    "\n",
    "cn_movies = df[df[\"Director\"] == \"Christopher Nolan\"]\n",
    "cn_movies"
   ]
  },
  {
   "cell_type": "code",
   "execution_count": 12,
   "id": "27109578-6635-4039-88b2-469f44bc571b",
   "metadata": {},
   "outputs": [
    {
     "data": {
      "text/plain": [
       "1937454106.0"
      ]
     },
     "execution_count": 12,
     "metadata": {},
     "output_type": "execute_result"
    }
   ],
   "source": [
    "# To get the sum of gross we just get that column and call the `sum()` method\n",
    "\n",
    "cn_movies[\"Gross\"].sum()"
   ]
  },
  {
   "cell_type": "markdown",
   "id": "9ce4c3df-070e-416e-beb1-239504792d0a",
   "metadata": {},
   "source": [
    "### 2.5 Find average gross per year"
   ]
  },
  {
   "cell_type": "code",
   "execution_count": 13,
   "id": "bce9943e-67c1-442e-bfb4-c2edda1efdda",
   "metadata": {},
   "outputs": [
    {
     "data": {
      "text/plain": [
       "Released_Year\n",
       "1920            NaN\n",
       "1921      5450000.0\n",
       "1922            NaN\n",
       "1924       977375.0\n",
       "1925      2750485.0\n",
       "           ...     \n",
       "2017    103065642.6\n",
       "2018    186268383.0\n",
       "2019    150421418.0\n",
       "2020            NaN\n",
       "PG      173837933.0\n",
       "Name: Gross, Length: 100, dtype: float64"
      ]
     },
     "execution_count": 13,
     "metadata": {},
     "output_type": "execute_result"
    }
   ],
   "source": [
    "# In order to calculate average per year we need to group by the \"Released_Year\" column\n",
    "\n",
    "group_by_year = df.groupby(\"Released_Year\")\n",
    "\n",
    "# We then specify which column (Gross) we want to calculate the mean over\n",
    "avg_per_year = group_by_year[\"Gross\"].mean()\n",
    "\n",
    "avg_per_year\n",
    "\n",
    "# Note that not all movies have Gross so if a year includes no movies with Gross the result will be NaN"
   ]
  },
  {
   "cell_type": "markdown",
   "id": "984b1034-421e-46c7-b24e-d70def923762",
   "metadata": {},
   "source": [
    "### 2.6 Find how many Harry Potter movies are in this dataset"
   ]
  },
  {
   "cell_type": "code",
   "execution_count": 14,
   "id": "624448a7-82b5-4a5d-8e95-ac17b47b322a",
   "metadata": {},
   "outputs": [
    {
     "data": {
      "text/plain": [
       "6"
      ]
     },
     "execution_count": 14,
     "metadata": {},
     "output_type": "execute_result"
    }
   ],
   "source": [
    "# A reasonable assumption is that all Harry Potter movies include the string \"Harry Potter\"\n",
    "# To figure out how many we just need a way to filter movies to see if they include that string\n",
    "\n",
    "# We can do that with the pandas `.str.contains()` method which works like a boolean condition\n",
    "hp_movies = df[df[\"Series_Title\"].str.contains(\"Harry Potter\")]\n",
    "\n",
    "len(hp_movies)"
   ]
  },
  {
   "cell_type": "markdown",
   "id": "ea1febb0-2400-42e7-a47d-bcbfd786d821",
   "metadata": {},
   "source": [
    "### 2.7 Find top 5 most common genres"
   ]
  },
  {
   "cell_type": "code",
   "execution_count": 15,
   "id": "62cd2a37-e0ec-40d4-bc44-f20b2ec8e815",
   "metadata": {},
   "outputs": [
    {
     "data": {
      "text/plain": [
       "'Crime, Drama'"
      ]
     },
     "execution_count": 15,
     "metadata": {},
     "output_type": "execute_result"
    }
   ],
   "source": [
    "# This one is tricky because the Genre column is a string with one or more genres\n",
    "# separated by a comma.\n",
    "\n",
    "df[\"Genre\"][1] # Example picking the second movie"
   ]
  },
  {
   "cell_type": "code",
   "execution_count": 16,
   "id": "fbada8e2-14d7-4ebc-a960-0ce0395b983b",
   "metadata": {},
   "outputs": [
    {
     "data": {
      "text/plain": [
       "Genre\n",
       "Drama        724\n",
       "Comedy       233\n",
       "Crime        209\n",
       "Adventure    196\n",
       "Action       189\n",
       "dtype: int64"
      ]
     },
     "execution_count": 16,
     "metadata": {},
     "output_type": "execute_result"
    }
   ],
   "source": [
    "# In order to solve this we'd like genre to only be one value.\n",
    "# One way of doing this is using the `explode()` method in pandas.\n",
    "# The plan looks something like this:\n",
    "# 1. Convert Genre into a list instead of a string\n",
    "# 2. Explode the genre creating a duplicate entry for each movie but with a different genre\n",
    "# 3. Group by genre and sort\n",
    "\n",
    "# 1. Convert Genre into a list\n",
    "df[\"Genre\"] = df[\"Genre\"].str.split(\", \")\n",
    "\n",
    "# 2. Explode the genre creating a duplicate entry for each movie but with a different genre\n",
    "exploded_df = df.explode(\"Genre\")\n",
    "\n",
    "exploded_df[1:3] # Showing the two entries that now exist for \"The Godfather\" each with a separate genre\n",
    "\n",
    "# 3. Group by genre, count and sort\n",
    "exploded_df.groupby(\"Genre\").size().sort_values(ascending=False)[:5]"
   ]
  },
  {
   "cell_type": "markdown",
   "id": "d414915d-b447-4864-ad8f-6f159f81e0ce",
   "metadata": {},
   "source": [
    "### 2.8 Find if gross is correlated to release year (using built-in pandas method)"
   ]
  },
  {
   "cell_type": "code",
   "execution_count": 17,
   "id": "f2a2f2f3-794a-46dd-b197-e3e7ef171eb3",
   "metadata": {},
   "outputs": [
    {
     "ename": "ValueError",
     "evalue": "Unable to parse string \"PG\" at position 966",
     "output_type": "error",
     "traceback": [
      "\u001b[0;31m---------------------------------------------------------------------------\u001b[0m",
      "\u001b[0;31mValueError\u001b[0m                                Traceback (most recent call last)",
      "File \u001b[0;32mlib.pyx:2368\u001b[0m, in \u001b[0;36mpandas._libs.lib.maybe_convert_numeric\u001b[0;34m()\u001b[0m\n",
      "\u001b[0;31mValueError\u001b[0m: Unable to parse string \"PG\"",
      "\nDuring handling of the above exception, another exception occurred:\n",
      "\u001b[0;31mValueError\u001b[0m                                Traceback (most recent call last)",
      "Cell \u001b[0;32mIn[17], line 7\u001b[0m\n\u001b[1;32m      1\u001b[0m \u001b[38;5;66;03m# Without going too much into what correlation is, there's a built-in method in pandas to calculate it.\u001b[39;00m\n\u001b[1;32m      2\u001b[0m \u001b[38;5;66;03m# It will give you a number -1 < n < 1 which will tell you how correlated two series are:\u001b[39;00m\n\u001b[1;32m      3\u001b[0m \u001b[38;5;66;03m# https://pandas.pydata.org/docs/reference/api/pandas.Series.corr.html\u001b[39;00m\n\u001b[1;32m      4\u001b[0m \n\u001b[1;32m      5\u001b[0m \u001b[38;5;66;03m# In order for it to work everything needs to be a numerical value.\u001b[39;00m\n\u001b[1;32m      6\u001b[0m \u001b[38;5;66;03m# So let's convert \"Released_Year\" into a number\u001b[39;00m\n\u001b[0;32m----> 7\u001b[0m df[\u001b[38;5;124m\"\u001b[39m\u001b[38;5;124mReleased_Year\u001b[39m\u001b[38;5;124m\"\u001b[39m] \u001b[38;5;241m=\u001b[39m \u001b[43mpd\u001b[49m\u001b[38;5;241;43m.\u001b[39;49m\u001b[43mto_numeric\u001b[49m\u001b[43m(\u001b[49m\u001b[43mdf\u001b[49m\u001b[43m[\u001b[49m\u001b[38;5;124;43m\"\u001b[39;49m\u001b[38;5;124;43mReleased_Year\u001b[39;49m\u001b[38;5;124;43m\"\u001b[39;49m\u001b[43m]\u001b[49m\u001b[43m)\u001b[49m\n",
      "File \u001b[0;32m/usr/local/lib/python3.11/site-packages/pandas/core/tools/numeric.py:222\u001b[0m, in \u001b[0;36mto_numeric\u001b[0;34m(arg, errors, downcast, dtype_backend)\u001b[0m\n\u001b[1;32m    220\u001b[0m coerce_numeric \u001b[38;5;241m=\u001b[39m errors \u001b[38;5;129;01mnot\u001b[39;00m \u001b[38;5;129;01min\u001b[39;00m (\u001b[38;5;124m\"\u001b[39m\u001b[38;5;124mignore\u001b[39m\u001b[38;5;124m\"\u001b[39m, \u001b[38;5;124m\"\u001b[39m\u001b[38;5;124mraise\u001b[39m\u001b[38;5;124m\"\u001b[39m)\n\u001b[1;32m    221\u001b[0m \u001b[38;5;28;01mtry\u001b[39;00m:\n\u001b[0;32m--> 222\u001b[0m     values, new_mask \u001b[38;5;241m=\u001b[39m \u001b[43mlib\u001b[49m\u001b[38;5;241;43m.\u001b[39;49m\u001b[43mmaybe_convert_numeric\u001b[49m\u001b[43m(\u001b[49m\u001b[43m  \u001b[49m\u001b[38;5;66;43;03m# type: ignore[call-overload]  # noqa: E501\u001b[39;49;00m\n\u001b[1;32m    223\u001b[0m \u001b[43m        \u001b[49m\u001b[43mvalues\u001b[49m\u001b[43m,\u001b[49m\n\u001b[1;32m    224\u001b[0m \u001b[43m        \u001b[49m\u001b[38;5;28;43mset\u001b[39;49m\u001b[43m(\u001b[49m\u001b[43m)\u001b[49m\u001b[43m,\u001b[49m\n\u001b[1;32m    225\u001b[0m \u001b[43m        \u001b[49m\u001b[43mcoerce_numeric\u001b[49m\u001b[38;5;241;43m=\u001b[39;49m\u001b[43mcoerce_numeric\u001b[49m\u001b[43m,\u001b[49m\n\u001b[1;32m    226\u001b[0m \u001b[43m        \u001b[49m\u001b[43mconvert_to_masked_nullable\u001b[49m\u001b[38;5;241;43m=\u001b[39;49m\u001b[43mdtype_backend\u001b[49m\u001b[43m \u001b[49m\u001b[38;5;129;43;01mis\u001b[39;49;00m\u001b[43m \u001b[49m\u001b[38;5;129;43;01mnot\u001b[39;49;00m\u001b[43m \u001b[49m\u001b[43mlib\u001b[49m\u001b[38;5;241;43m.\u001b[39;49m\u001b[43mno_default\u001b[49m\n\u001b[1;32m    227\u001b[0m \u001b[43m        \u001b[49m\u001b[38;5;129;43;01mor\u001b[39;49;00m\u001b[43m \u001b[49m\u001b[38;5;28;43misinstance\u001b[39;49m\u001b[43m(\u001b[49m\u001b[43mvalues_dtype\u001b[49m\u001b[43m,\u001b[49m\u001b[43m \u001b[49m\u001b[43mStringDtype\u001b[49m\u001b[43m)\u001b[49m\u001b[43m,\u001b[49m\n\u001b[1;32m    228\u001b[0m \u001b[43m    \u001b[49m\u001b[43m)\u001b[49m\n\u001b[1;32m    229\u001b[0m \u001b[38;5;28;01mexcept\u001b[39;00m (\u001b[38;5;167;01mValueError\u001b[39;00m, \u001b[38;5;167;01mTypeError\u001b[39;00m):\n\u001b[1;32m    230\u001b[0m     \u001b[38;5;28;01mif\u001b[39;00m errors \u001b[38;5;241m==\u001b[39m \u001b[38;5;124m\"\u001b[39m\u001b[38;5;124mraise\u001b[39m\u001b[38;5;124m\"\u001b[39m:\n",
      "File \u001b[0;32mlib.pyx:2410\u001b[0m, in \u001b[0;36mpandas._libs.lib.maybe_convert_numeric\u001b[0;34m()\u001b[0m\n",
      "\u001b[0;31mValueError\u001b[0m: Unable to parse string \"PG\" at position 966"
     ]
    }
   ],
   "source": [
    "# Without going too much into what correlation is, there's a built-in method in pandas to calculate it.\n",
    "# It will give you a number -1 < n < 1 which will tell you how correlated two series are:\n",
    "# https://pandas.pydata.org/docs/reference/api/pandas.Series.corr.html\n",
    "\n",
    "# In order for it to work everything needs to be a numerical value.\n",
    "# So let's convert \"Released_Year\" into a number\n",
    "df[\"Released_Year\"] = pd.to_numeric(df[\"Released_Year\"])"
   ]
  },
  {
   "cell_type": "code",
   "execution_count": 21,
   "id": "2e6d77ea-9ee5-4815-b26c-e8ee38e3fe79",
   "metadata": {},
   "outputs": [],
   "source": [
    "# Oh no this gives us an error.\n",
    "# The problem is that this dataset contains a weird year \"PG\" in some row\n",
    "# We can filter this out by passing `errors=\"coerce\"` to `to_numeric`\n",
    "# which will fill anything it can't convert with NaN\n",
    "\n",
    "df[\"Released_Year\"] = pd.to_numeric(df[\"Released_Year\"], errors=\"coerce\")"
   ]
  },
  {
   "cell_type": "code",
   "execution_count": 22,
   "id": "17ce0bd4-0cf1-456c-bd1b-e9e1ee07e0b4",
   "metadata": {},
   "outputs": [],
   "source": [
    "# We then need to filter out any null values for \"Released_Year\"\n",
    "nn_df = df[df[\"Released_Year\"].notnull()]"
   ]
  },
  {
   "cell_type": "code",
   "execution_count": 24,
   "id": "17603402-4c98-4a4c-8cd2-a6bf8771daf1",
   "metadata": {},
   "outputs": [
    {
     "data": {
      "text/plain": [
       "0.2332497775139444"
      ]
     },
     "execution_count": 24,
     "metadata": {},
     "output_type": "execute_result"
    }
   ],
   "source": [
    "# And finally we can calculate the correlation\n",
    "\n",
    "nn_df[\"Released_Year\"].corr(nn_df[\"Gross\"])"
   ]
  },
  {
   "cell_type": "markdown",
   "id": "16be9822-065b-44a1-8d8e-00bb3ffc8d14",
   "metadata": {},
   "source": [
    "This correlation is slightly positive but not overly positive"
   ]
  }
 ],
 "metadata": {
  "kernelspec": {
   "display_name": "Python 3 (ipykernel)",
   "language": "python",
   "name": "python3"
  },
  "language_info": {
   "codemirror_mode": {
    "name": "ipython",
    "version": 3
   },
   "file_extension": ".py",
   "mimetype": "text/x-python",
   "name": "python",
   "nbconvert_exporter": "python",
   "pygments_lexer": "ipython3",
   "version": "3.11.4"
  }
 },
 "nbformat": 4,
 "nbformat_minor": 5
}
