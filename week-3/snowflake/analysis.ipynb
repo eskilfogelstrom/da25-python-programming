{
 "cells": [
  {
   "cell_type": "markdown",
   "id": "0fa0c341-9a6b-4012-8f22-1a986121843e",
   "metadata": {},
   "source": [
    "# Loading data from snowflake in data analysis"
   ]
  },
  {
   "cell_type": "markdown",
   "id": "87bee7a4-1568-4f16-a579-51eb7412f48b",
   "metadata": {},
   "source": [
    "## 0. Importing packages"
   ]
  },
  {
   "cell_type": "code",
   "execution_count": 1,
   "id": "b81b4dfa-d766-4c4e-8090-5c9fb47f8de4",
   "metadata": {},
   "outputs": [],
   "source": [
    "import snowflake.connector\n",
    "import pandas as pd"
   ]
  },
  {
   "cell_type": "markdown",
   "id": "99b15c1d-92b1-4f50-8c96-3051d3866aa0",
   "metadata": {},
   "source": [
    "## 1. Fetching data from snowflake and put in dataframe"
   ]
  },
  {
   "cell_type": "code",
   "execution_count": 2,
   "id": "ac9f2f18-652b-4097-98f8-107cc0dd0f59",
   "metadata": {},
   "outputs": [],
   "source": [
    "conn = snowflake.connector.connect(\n",
    "    user=\"\",\n",
    "    password=\"\",\n",
    "    account=\"\",\n",
    "    database=\"\",\n",
    "    schema=\"\"\n",
    ")\n",
    "\n",
    "cur = conn.cursor()\n",
    "cur.execute('select * from \"movies\"')\n",
    "\n",
    "df = cur.fetch_pandas_all()\n",
    "\n",
    "conn.close()"
   ]
  },
  {
   "cell_type": "markdown",
   "id": "303e7ecf-c262-4649-a030-6818b1488396",
   "metadata": {},
   "source": [
    "## 2. Do analysis things"
   ]
  },
  {
   "cell_type": "code",
   "execution_count": 3,
   "id": "9eb05f23-e1b2-41e7-a278-5b785ffbeb48",
   "metadata": {},
   "outputs": [
    {
     "data": {
      "text/plain": [
       "122.891"
      ]
     },
     "execution_count": 3,
     "metadata": {},
     "output_type": "execute_result"
    }
   ],
   "source": [
    "df[\"Runtime\"].mean()"
   ]
  }
 ],
 "metadata": {
  "kernelspec": {
   "display_name": "Python 3 (ipykernel)",
   "language": "python",
   "name": "python3"
  },
  "language_info": {
   "codemirror_mode": {
    "name": "ipython",
    "version": 3
   },
   "file_extension": ".py",
   "mimetype": "text/x-python",
   "name": "python",
   "nbconvert_exporter": "python",
   "pygments_lexer": "ipython3",
   "version": "3.11.5"
  }
 },
 "nbformat": 4,
 "nbformat_minor": 5
}
