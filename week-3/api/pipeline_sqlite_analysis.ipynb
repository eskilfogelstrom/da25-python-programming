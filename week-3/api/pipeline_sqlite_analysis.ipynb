{
 "cells": [
  {
   "cell_type": "code",
   "execution_count": 1,
   "id": "280274f4-d82b-4604-9b90-86a34672cae0",
   "metadata": {},
   "outputs": [],
   "source": [
    "import pandas as pd\n",
    "import sqlite3"
   ]
  },
  {
   "cell_type": "code",
   "execution_count": 3,
   "id": "03915b45-0094-4ba0-a4bb-40d5aa81cbd4",
   "metadata": {},
   "outputs": [],
   "source": [
    "conn = sqlite3.connect(\"data/db\")\n",
    "\n",
    "df = pd.read_sql_query(\"select * from temp_measurements\", conn)"
   ]
  },
  {
   "cell_type": "code",
   "execution_count": 4,
   "id": "f966b135-529f-4a19-8077-94c6ecc73b11",
   "metadata": {},
   "outputs": [
    {
     "data": {
      "text/plain": [
       "279.31"
      ]
     },
     "execution_count": 4,
     "metadata": {},
     "output_type": "execute_result"
    }
   ],
   "source": [
    "df[\"temp\"].mean()"
   ]
  }
 ],
 "metadata": {
  "kernelspec": {
   "display_name": "Python 3 (ipykernel)",
   "language": "python",
   "name": "python3"
  },
  "language_info": {
   "codemirror_mode": {
    "name": "ipython",
    "version": 3
   },
   "file_extension": ".py",
   "mimetype": "text/x-python",
   "name": "python",
   "nbconvert_exporter": "python",
   "pygments_lexer": "ipython3",
   "version": "3.11.5"
  }
 },
 "nbformat": 4,
 "nbformat_minor": 5
}
