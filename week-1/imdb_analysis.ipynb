{
 "cells": [
  {
   "cell_type": "markdown",
   "id": "14ca8718-84e6-4a49-99f1-2bde92488575",
   "metadata": {},
   "source": [
    "# IMDB Top 1000 analysis"
   ]
  },
  {
   "cell_type": "markdown",
   "id": "da1ef707-d1b1-4487-aba5-416a8b7318ff",
   "metadata": {},
   "source": [
    "## 1. Loading the from a CSV and putting it in a list"
   ]
  },
  {
   "cell_type": "code",
   "execution_count": 3,
   "id": "fc2bc862-2907-4288-be67-e743ac603fcf",
   "metadata": {
    "tags": []
   },
   "outputs": [],
   "source": [
    "import csv\n",
    "\n",
    "with open(\"imdb_top_1000.csv\", encoding=\"utf-8\") as csvfile:\n",
    "    data = list(csv.DictReader(csvfile))\n"
   ]
  },
  {
   "cell_type": "markdown",
   "id": "ef401e38-023c-4bbb-88ae-674ee5204bbe",
   "metadata": {
    "tags": []
   },
   "source": [
    "print(len(data))"
   ]
  },
  {
   "cell_type": "markdown",
   "id": "467bef02-3e7c-4ed5-b363-b4efd092282e",
   "metadata": {},
   "source": [
    "## 2. Calculating the average rating\n",
    "Below we calculate the average IMDB rating for all movies. As the Python CSV module turns everything into strings we need to convert it into a float so that we can add them up."
   ]
  },
  {
   "cell_type": "code",
   "execution_count": 4,
   "id": "ee0a2ea9-1665-4e53-945e-504954257ad7",
   "metadata": {
    "tags": []
   },
   "outputs": [
    {
     "name": "stdout",
     "output_type": "stream",
     "text": [
      "7.949300000000012\n"
     ]
    }
   ],
   "source": [
    "\n",
    "total = 0\n",
    "\n",
    "for movie in data:\n",
    "    total += float(movie[\"IMDB_Rating\"])\n",
    "    \n",
    "rating_avg = total / len(data)\n",
    "print(rating_avg)"
   ]
  },
  {
   "cell_type": "markdown",
   "id": "bd89d6f0-e74b-4746-bbaa-867ae22f9440",
   "metadata": {},
   "source": [
    "## 3. Counting movies with specific director\n",
    "Below we count all movies that have been directed by Peter Jackson. We do this through looping through our dataset and only increasing the count if the `movie[\"Director\"]` is equal to `\"Peter Jackson\"`"
   ]
  },
  {
   "cell_type": "code",
   "execution_count": 29,
   "id": "c90f8aec-454a-4304-a114-0acd10e57d31",
   "metadata": {
    "tags": []
   },
   "outputs": [
    {
     "name": "stdout",
     "output_type": "stream",
     "text": [
      "5\n"
     ]
    }
   ],
   "source": [
    "count = 0\n",
    "\n",
    "for movie in data:\n",
    "    if movie[\"Director\"] == \"Peter Jackson\":\n",
    "        count += 1\n",
    "    \n",
    "print(count)"
   ]
  },
  {
   "cell_type": "markdown",
   "id": "7c2a2c27-2a30-4d50-8c95-dfee3b4ecbd0",
   "metadata": {},
   "source": [
    "## 4. Filtering movies\n",
    "Instead of just counting maybe we want to filter out all movies by a certain criteria so that we can perform more analysis on that subset. Below we create a new list only containing the movies that Peter Jackson has directed."
   ]
  },
  {
   "cell_type": "code",
   "execution_count": 5,
   "id": "ca9134fa-3365-43c2-a682-efb805b3b816",
   "metadata": {
    "tags": []
   },
   "outputs": [],
   "source": [
    "filtered_movies = []\n",
    "\n",
    "for movie in data:\n",
    "    if movie[\"Director\"] == \"Peter Jackson\":\n",
    "        filtered_movies.append(movie)"
   ]
  },
  {
   "cell_type": "markdown",
   "id": "00670409-f385-4a92-98f0-4e5e9bfae185",
   "metadata": {},
   "source": [
    "### 4.1 Average of a filtered list\n",
    "We then use the filtered list to calculate the average in very much the same way as above."
   ]
  },
  {
   "cell_type": "code",
   "execution_count": 6,
   "id": "dae3b29b-6207-46ee-80e9-594901e4d7aa",
   "metadata": {
    "tags": []
   },
   "outputs": [
    {
     "name": "stdout",
     "output_type": "stream",
     "text": [
      "The Lord of the Rings: The Return of the King - 8.9\n",
      "The Lord of the Rings: The Fellowship of the Ring - 8.8\n",
      "The Lord of the Rings: The Two Towers - 8.7\n",
      "The Hobbit: The Desolation of Smaug - 7.8\n",
      "The Hobbit: An Unexpected Journey - 7.8\n",
      "Average rating - 8.4\n"
     ]
    }
   ],
   "source": [
    "total = 0\n",
    "\n",
    "for movie in filtered_movies:\n",
    "    print(f\"{movie['Series_Title']} - {movie['IMDB_Rating']}\")\n",
    "\n",
    "for movie in filtered_movies:\n",
    "    total += float(movie[\"IMDB_Rating\"])\n",
    "    \n",
    "rating_avg = total / len(filtered_movies)\n",
    "\n",
    "print(f\"Average rating - {rating_avg}\")"
   ]
  },
  {
   "cell_type": "markdown",
   "id": "8151c4c2-89e2-444f-b6fe-a7aac4441f91",
   "metadata": {},
   "source": [
    "## 5. Grouping by a value\n"
   ]
  },
  {
   "cell_type": "code",
   "execution_count": 12,
   "id": "cf0f5df6-d776-4290-93b2-2a7ff7462e83",
   "metadata": {
    "tags": []
   },
   "outputs": [],
   "source": [
    "from pprint import pprint\n",
    "from collections import defaultdict\n",
    "\n",
    "group_by_director = defaultdict(int)\n",
    "\n",
    "for movie in data:\n",
    "    group_by_director[movie[\"Director\"]] += 1"
   ]
  },
  {
   "cell_type": "markdown",
   "id": "6be59406-59d5-414e-a494-2354626d2615",
   "metadata": {},
   "source": [
    "### 5.2 Sorting a dictionary\n",
    "We then can sort this dictionary by its values using the `sorted` built-in function and passing the `key` keyword argument."
   ]
  },
  {
   "cell_type": "code",
   "execution_count": 13,
   "id": "6debbf5d-b397-41d0-b601-07dc6b98c0c5",
   "metadata": {
    "tags": []
   },
   "outputs": [
    {
     "name": "stdout",
     "output_type": "stream",
     "text": [
      "[('Alfred Hitchcock', 14),\n",
      " ('Steven Spielberg', 13),\n",
      " ('Hayao Miyazaki', 11),\n",
      " ('Martin Scorsese', 10),\n",
      " ('Akira Kurosawa', 10)]\n"
     ]
    }
   ],
   "source": [
    "sorted_director = sorted(group_by_director.items(), key=lambda x: x[1], reverse=True)\n",
    "\n",
    "pprint(sorted_director[:5])"
   ]
  },
  {
   "cell_type": "markdown",
   "id": "0edf3d10-73d7-4b49-952e-445e7ea4642e",
   "metadata": {},
   "source": [
    "## 6. Exercises"
   ]
  },
  {
   "cell_type": "markdown",
   "id": "4f2020e6-c2fc-4b19-8ea1-564bc18fb790",
   "metadata": {},
   "source": [
    "### 6.1 Find highest rated movie"
   ]
  },
  {
   "cell_type": "code",
   "execution_count": 9,
   "id": "bd66a9fd-d029-49e0-a7e5-462193887179",
   "metadata": {
    "tags": []
   },
   "outputs": [
    {
     "name": "stdout",
     "output_type": "stream",
     "text": [
      "Highest rated movie is The Shawshank Redemption with rating 9.3\n"
     ]
    }
   ],
   "source": [
    "# Using a for-loop\n",
    "\n",
    "highest_rated_movie = data[0]\n",
    "\n",
    "for movie in data:\n",
    "    if movie[\"IMDB_Rating\"] > highest_rated_movie[\"IMDB_Rating\"]:\n",
    "        highest_rated_movie = movie\n",
    "\n",
    "print(f\"Highest rated movie is {highest_rated_movie['Series_Title']} with rating {highest_rated_movie['IMDB_Rating']}\")"
   ]
  },
  {
   "cell_type": "code",
   "execution_count": 10,
   "id": "116dc79b-29b8-4515-8430-6dddea1f8596",
   "metadata": {
    "tags": []
   },
   "outputs": [
    {
     "name": "stdout",
     "output_type": "stream",
     "text": [
      "Highest rated movie is The Shawshank Redemption with rating 9.3\n"
     ]
    }
   ],
   "source": [
    "# Using the built-in max() function\n",
    "\n",
    "highest_rated_movie = max(data, key=lambda movie: movie[\"IMDB_Rating\"])\n",
    "\n",
    "print(f\"Highest rated movie is {highest_rated_movie['Series_Title']} with rating {highest_rated_movie['IMDB_Rating']}\")"
   ]
  },
  {
   "cell_type": "markdown",
   "id": "4ba3ba2c-9733-42ce-94b1-519acf07f734",
   "metadata": {},
   "source": [
    "### 6.2 Find sum of all gross"
   ]
  },
  {
   "cell_type": "code",
   "execution_count": 23,
   "id": "3fddf534-3025-4ffb-b7fe-386db64ea678",
   "metadata": {
    "tags": []
   },
   "outputs": [
    {
     "name": "stdout",
     "output_type": "stream",
     "text": [
      "56536877976\n"
     ]
    }
   ],
   "source": [
    "total_gross = 0\n",
    "\n",
    "for movie in data:\n",
    "    # not all movies seem to have a gross\n",
    "    if movie[\"Gross\"]:\n",
    "\n",
    "        # gross is a string formatted with commas in between 1000s.\n",
    "        # Example: 28,341,469\n",
    "\n",
    "        # To convert it into an int we need to first remove the commas\n",
    "        gross = movie[\"Gross\"].replace(\",\", \"\")\n",
    "        \n",
    "        # Then we can convert it to int\n",
    "        gross = int(gross)\n",
    "\n",
    "        total_gross += gross\n",
    "        \n",
    "print(total_gross)"
   ]
  },
  {
   "cell_type": "markdown",
   "id": "12292193-685f-4857-9d16-edf3f84b35f7",
   "metadata": {
    "tags": []
   },
   "source": [
    "### 6.3 Find count of movies by director \"Francis Ford Coppola\""
   ]
  },
  {
   "cell_type": "code",
   "execution_count": 25,
   "id": "d0ea8154-c763-42a5-b45e-cefbe1e6df7e",
   "metadata": {
    "tags": []
   },
   "outputs": [
    {
     "name": "stdout",
     "output_type": "stream",
     "text": [
      "5\n"
     ]
    }
   ],
   "source": [
    "# Using a for-loop\n",
    "\n",
    "count = 0\n",
    "\n",
    "for movie in data:\n",
    "    if movie[\"Director\"] == \"Francis Ford Coppola\":\n",
    "        count += 1\n",
    "        \n",
    "print(count)"
   ]
  },
  {
   "cell_type": "code",
   "execution_count": 26,
   "id": "a993cb3e-cfa7-46ea-a5cc-ac279385ae8c",
   "metadata": {
    "tags": []
   },
   "outputs": [
    {
     "name": "stdout",
     "output_type": "stream",
     "text": [
      "5\n"
     ]
    }
   ],
   "source": [
    "# Using a list comprehension and len()\n",
    "\n",
    "ffc_movies = [movie for movie in data if movie[\"Director\"] == \"Francis Ford Coppola\"]\n",
    "\n",
    "print(len(ffc_movies))"
   ]
  },
  {
   "cell_type": "markdown",
   "id": "bc06dca7-0e4b-4eb8-9b02-018222f85d57",
   "metadata": {},
   "source": [
    "### 6.4 Find sum of gross of movies by \"Christopher Nolan\""
   ]
  },
  {
   "cell_type": "code",
   "execution_count": 31,
   "id": "56ab3c42-b866-4e62-926f-cce03685858c",
   "metadata": {
    "tags": []
   },
   "outputs": [
    {
     "name": "stdout",
     "output_type": "stream",
     "text": [
      "1937454106\n",
      "1937454106\n"
     ]
    }
   ],
   "source": [
    "# Use list comprehension to filter only movies by Christopher Nolan\n",
    "cn_movies = [movie for movie in data if movie[\"Director\"] == \"Christopher Nolan\"]\n",
    "\n",
    "# Re-use gross calculation from above but looping throuhg cn_movies instead of all movies\n",
    "\n",
    "# TODO: This cleaning is ideally something that should be done in the beginning. But more on that next week ;)\n",
    "cn_gross = 0\n",
    "\n",
    "for movie in cn_movies:\n",
    "    if movie[\"Gross\"]:\n",
    "        gross = movie[\"Gross\"].replace(\",\", \"\")\n",
    "        \n",
    "        gross = int(gross)\n",
    "\n",
    "        cn_gross += gross\n",
    "        \n",
    "print(cn_gross)\n",
    "\n",
    "# Can also be written as a list comprehension and using sum()\n",
    "# But in this case I think it's harder to read and understand\n",
    "\n",
    "cn_gross = sum([int(movie[\"Gross\"].replace(\",\", \"\")) for movie in data if movie[\"Director\"] == \"Christopher Nolan\"])\n",
    "\n",
    "print(cn_gross)"
   ]
  },
  {
   "cell_type": "markdown",
   "id": "84797a8e-bbcb-4349-abf4-1549214adf07",
   "metadata": {},
   "source": [
    "### 6.5 Find the average length of a title"
   ]
  },
  {
   "cell_type": "code",
   "execution_count": 32,
   "id": "c9f54277-8fa2-46fe-8d35-d2b160c72204",
   "metadata": {
    "tags": []
   },
   "outputs": [
    {
     "name": "stdout",
     "output_type": "stream",
     "text": [
      "15.452\n"
     ]
    }
   ],
   "source": [
    "total_length = 0\n",
    "\n",
    "for movie in data:\n",
    "    total_length += len(movie[\"Series_Title\"])\n",
    "    \n",
    "print(total_length / len(data))"
   ]
  },
  {
   "cell_type": "markdown",
   "id": "0cd2ccea-ec92-4435-82da-df828c87d531",
   "metadata": {},
   "source": [
    "### 6.6 Find count of movies per year"
   ]
  },
  {
   "cell_type": "code",
   "execution_count": 34,
   "id": "1cc429c5-b7d8-4a53-a8fa-6d549947aef7",
   "metadata": {
    "tags": []
   },
   "outputs": [
    {
     "name": "stdout",
     "output_type": "stream",
     "text": [
      "defaultdict(<class 'int'>,\n",
      "            {'1920': 1,\n",
      "             '1921': 1,\n",
      "             '1922': 1,\n",
      "             '1924': 1,\n",
      "             '1925': 2,\n",
      "             '1926': 1,\n",
      "             '1927': 2,\n",
      "             '1928': 2,\n",
      "             '1930': 1,\n",
      "             '1931': 3,\n",
      "             '1932': 2,\n",
      "             '1933': 3,\n",
      "             '1934': 2,\n",
      "             '1935': 3,\n",
      "             '1936': 1,\n",
      "             '1937': 1,\n",
      "             '1938': 3,\n",
      "             '1939': 5,\n",
      "             '1940': 7,\n",
      "             '1941': 2,\n",
      "             '1942': 3,\n",
      "             '1943': 1,\n",
      "             '1944': 4,\n",
      "             '1945': 2,\n",
      "             '1946': 5,\n",
      "             '1947': 2,\n",
      "             '1948': 6,\n",
      "             '1949': 3,\n",
      "             '1950': 5,\n",
      "             '1951': 5,\n",
      "             '1952': 4,\n",
      "             '1953': 5,\n",
      "             '1954': 6,\n",
      "             '1955': 6,\n",
      "             '1956': 5,\n",
      "             '1957': 9,\n",
      "             '1958': 4,\n",
      "             '1959': 7,\n",
      "             '1960': 11,\n",
      "             '1961': 5,\n",
      "             '1962': 13,\n",
      "             '1963': 5,\n",
      "             '1964': 7,\n",
      "             '1965': 4,\n",
      "             '1966': 7,\n",
      "             '1967': 10,\n",
      "             '1968': 8,\n",
      "             '1969': 3,\n",
      "             '1970': 3,\n",
      "             '1971': 9,\n",
      "             '1972': 8,\n",
      "             '1973': 12,\n",
      "             '1974': 6,\n",
      "             '1975': 9,\n",
      "             '1976': 7,\n",
      "             '1977': 3,\n",
      "             '1978': 7,\n",
      "             '1979': 12,\n",
      "             '1980': 8,\n",
      "             '1981': 4,\n",
      "             '1982': 11,\n",
      "             '1983': 5,\n",
      "             '1984': 9,\n",
      "             '1985': 9,\n",
      "             '1986': 9,\n",
      "             '1987': 12,\n",
      "             '1988': 11,\n",
      "             '1989': 11,\n",
      "             '1990': 8,\n",
      "             '1991': 12,\n",
      "             '1992': 12,\n",
      "             '1993': 23,\n",
      "             '1994': 13,\n",
      "             '1995': 19,\n",
      "             '1996': 10,\n",
      "             '1997': 19,\n",
      "             '1998': 17,\n",
      "             '1999': 17,\n",
      "             '2000': 19,\n",
      "             '2001': 27,\n",
      "             '2002': 19,\n",
      "             '2003': 22,\n",
      "             '2004': 31,\n",
      "             '2005': 17,\n",
      "             '2006': 26,\n",
      "             '2007': 26,\n",
      "             '2008': 21,\n",
      "             '2009': 29,\n",
      "             '2010': 23,\n",
      "             '2011': 18,\n",
      "             '2012': 24,\n",
      "             '2013': 28,\n",
      "             '2014': 32,\n",
      "             '2015': 25,\n",
      "             '2016': 28,\n",
      "             '2017': 22,\n",
      "             '2018': 19,\n",
      "             '2019': 23,\n",
      "             '2020': 6,\n",
      "             'PG': 1})\n"
     ]
    }
   ],
   "source": [
    "# Using a dictionary to group by year\n",
    "\n",
    "from collections import defaultdict\n",
    "from pprint import pprint\n",
    "\n",
    "group_by_year = defaultdict(int)\n",
    "\n",
    "for movie in data:\n",
    "    group_by_year[movie[\"Released_Year\"]] += 1\n",
    "    \n",
    "pprint(group_by_year)"
   ]
  },
  {
   "cell_type": "markdown",
   "id": "2bcd1ee9-a132-482a-ba34-ef57851a3f94",
   "metadata": {},
   "source": [
    "### 6.7 Find the average rating for each year"
   ]
  },
  {
   "cell_type": "code",
   "execution_count": 40,
   "id": "04577cd7-1005-4d75-b63d-1d4ca69baa53",
   "metadata": {
    "tags": []
   },
   "outputs": [
    {
     "name": "stdout",
     "output_type": "stream",
     "text": [
      "1994 - 8.23846153846154\n",
      "1972 - 8.087499999999999\n",
      "2008 - 7.923809523809522\n",
      "1974 - 8.05\n",
      "1957 - 8.277777777777779\n",
      "2003 - 7.9499999999999975\n",
      "1993 - 7.904347826086957\n",
      "2010 - 7.904347826086955\n",
      "1999 - 8.017647058823528\n",
      "2001 - 7.899999999999998\n",
      "1966 - 8.057142857142859\n",
      "2002 - 7.8999999999999995\n",
      "1990 - 7.8875\n",
      "1980 - 8.0875\n",
      "1975 - 8.088888888888889\n",
      "2020 - 8.133333333333331\n",
      "2019 - 7.995652173913045\n",
      "2014 - 7.9187499999999975\n",
      "1998 - 7.929411764705882\n",
      "1997 - 7.94736842105263\n",
      "1995 - 8.010526315789473\n",
      "1991 - 7.933333333333333\n",
      "1977 - 8.066666666666668\n",
      "1962 - 8.061538461538461\n",
      "1954 - 8.166666666666666\n",
      "1946 - 8.02\n",
      "2011 - 7.877777777777776\n",
      "2006 - 7.89230769230769\n",
      "2000 - 7.957894736842104\n",
      "1988 - 8.036363636363635\n",
      "1985 - 7.966666666666665\n",
      "1968 - 8.0\n",
      "1960 - 7.972727272727273\n",
      "1942 - 8.233333333333333\n",
      "1936 - 8.5\n",
      "1931 - 8.200000000000001\n",
      "2018 - 7.994736842105263\n",
      "2017 - 7.890909090909091\n",
      "2016 - 7.93571428571429\n",
      "2012 - 7.941666666666664\n",
      "2009 - 7.86551724137931\n",
      "2007 - 7.8769230769230765\n",
      "1984 - 8.0\n",
      "1981 - 7.975000000000001\n",
      "1979 - 7.933333333333333\n",
      "1971 - 7.933333333333334\n",
      "1963 - 8.040000000000001\n",
      "1964 - 7.8571428571428585\n",
      "1950 - 8.139999999999999\n",
      "1940 - 8.014285714285714\n",
      "2013 - 7.921428571428572\n",
      "2005 - 7.888235294117647\n",
      "2004 - 7.874193548387095\n",
      "1992 - 7.841666666666668\n",
      "1987 - 7.841666666666665\n",
      "1986 - 7.933333333333333\n",
      "1983 - 8.0\n",
      "1976 - 8.014285714285714\n",
      "1973 - 7.883333333333333\n",
      "1965 - 8.0\n",
      "1959 - 8.085714285714285\n",
      "1958 - 8.1\n",
      "1952 - 8.05\n",
      "1948 - 8.033333333333333\n",
      "1944 - 7.925000000000001\n",
      "1941 - 8.15\n",
      "1927 - 8.2\n",
      "1921 - 8.3\n",
      "2015 - 7.867999999999998\n",
      "1996 - 7.889999999999999\n",
      "1989 - 7.863636363636361\n",
      "1978 - 7.8428571428571425\n",
      "1961 - 7.959999999999999\n",
      "1955 - 7.916666666666668\n",
      "1953 - 7.9799999999999995\n",
      "1925 - 8.1\n",
      "1924 - 8.2\n",
      "1982 - 7.927272727272728\n",
      "1967 - 7.849999999999999\n",
      "1951 - 7.88\n",
      "1949 - 8.066666666666666\n",
      "1939 - 8.0\n",
      "1937 - 8.1\n",
      "1934 - 8.05\n",
      "1928 - 8.1\n",
      "1926 - 8.1\n",
      "1920 - 8.1\n",
      "1970 - 7.833333333333333\n",
      "1969 - 7.8999999999999995\n",
      "1956 - 7.82\n",
      "1947 - 7.95\n",
      "1945 - 7.95\n",
      "1930 - 8.0\n",
      "1938 - 7.833333333333333\n",
      "1935 - 7.766666666666666\n",
      "1933 - 7.8\n",
      "1932 - 7.85\n",
      "1922 - 7.9\n",
      "1943 - 7.8\n",
      "PG - 7.6\n"
     ]
    }
   ],
   "source": [
    "# Using a dictionary to group movies by year where the value is a list of movies\n",
    "\n",
    "from collections import defaultdict\n",
    "\n",
    "group_by_year = defaultdict(list)\n",
    "\n",
    "for movie in data:\n",
    "    group_by_year[movie[\"Released_Year\"]].append(movie)\n",
    "\n",
    "for year, movies in group_by_year.items():\n",
    "    sum_rating = sum([float(movie[\"IMDB_Rating\"]) for movie in movies])\n",
    "    avg_rating = sum_rating / len(movies)\n",
    "    \n",
    "    print(f\"{year} - {avg_rating}\")"
   ]
  },
  {
   "cell_type": "markdown",
   "id": "80529386-db8e-496a-a504-9c13bcc32e37",
   "metadata": {},
   "source": [
    "### 6.8 Find count of movies per genre"
   ]
  },
  {
   "cell_type": "code",
   "execution_count": 41,
   "id": "dc472f5a-5815-48d3-9fa2-8c6980c2cab0",
   "metadata": {
    "tags": []
   },
   "outputs": [
    {
     "name": "stdout",
     "output_type": "stream",
     "text": [
      "defaultdict(<class 'int'>, {'Drama': 724, 'Crime': 209, 'Action': 189, 'Adventure': 196, 'Biography': 109, 'History': 56, 'Sci-Fi': 67, 'Romance': 125, 'Western': 20, 'Fantasy': 66, 'Comedy': 233, 'Thriller': 137, 'Animation': 82, 'Family': 56, 'War': 51, 'Mystery': 99, 'Music': 35, 'Horror': 32, 'Musical': 17, 'Film-Noir': 19, 'Sport': 19})\n"
     ]
    }
   ],
   "source": [
    "from collections import defaultdict\n",
    "\n",
    "# Use a dictionary to group movies by genre\n",
    "group_by_genre = defaultdict(int)\n",
    "\n",
    "for movie in data:\n",
    "    # As genre is a comma separated list inside of each movie\n",
    "    # we need to convert it into something we can use\n",
    "    \n",
    "    # We do this by splitting the string to get a list of all genres\n",
    "    genres = movie[\"Genre\"].split(\", \")\n",
    "    \n",
    "    # Then we can loop through it and increase our counter\n",
    "    for genre in genres:\n",
    "        group_by_genre[genre] += 1\n",
    "        \n",
    "print(group_by_genre)"
   ]
  }
 ],
 "metadata": {
  "kernelspec": {
   "display_name": "Python 3 (ipykernel)",
   "language": "python",
   "name": "python3"
  },
  "language_info": {
   "codemirror_mode": {
    "name": "ipython",
    "version": 3
   },
   "file_extension": ".py",
   "mimetype": "text/x-python",
   "name": "python",
   "nbconvert_exporter": "python",
   "pygments_lexer": "ipython3",
   "version": "3.11.5"
  }
 },
 "nbformat": 4,
 "nbformat_minor": 5
}
