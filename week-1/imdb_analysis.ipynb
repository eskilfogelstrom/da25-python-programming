{
 "cells": [
  {
   "cell_type": "code",
   "execution_count": 18,
   "id": "fc2bc862-2907-4288-be67-e743ac603fcf",
   "metadata": {
    "tags": []
   },
   "outputs": [
    {
     "name": "stdout",
     "output_type": "stream",
     "text": [
      "<class 'float'>\n"
     ]
    }
   ],
   "source": [
    "import csv\n",
    "\n",
    "with open(\"imdb_top_1000.csv\", encoding=\"utf-8\") as csvfile:\n",
    "    data = list(csv.DictReader(csvfile))\n"
   ]
  },
  {
   "cell_type": "code",
   "execution_count": 12,
   "id": "a83b7bf7-f87b-4232-ae0b-194687714e00",
   "metadata": {
    "tags": []
   },
   "outputs": [
    {
     "name": "stdout",
     "output_type": "stream",
     "text": [
      "1000\n"
     ]
    }
   ],
   "source": [
    "print(len(data))"
   ]
  },
  {
   "cell_type": "code",
   "execution_count": 23,
   "id": "ee0a2ea9-1665-4e53-945e-504954257ad7",
   "metadata": {
    "tags": []
   },
   "outputs": [
    {
     "name": "stdout",
     "output_type": "stream",
     "text": [
      "7.949300000000012\n"
     ]
    }
   ],
   "source": [
    "\n",
    "total = 0\n",
    "\n",
    "for movie in data:\n",
    "    total += float(movie[\"IMDB_Rating\"])\n",
    "    \n",
    "rating_avg = total / len(data)\n",
    "print(rating_avg)"
   ]
  },
  {
   "cell_type": "code",
   "execution_count": 29,
   "id": "c90f8aec-454a-4304-a114-0acd10e57d31",
   "metadata": {
    "tags": []
   },
   "outputs": [
    {
     "name": "stdout",
     "output_type": "stream",
     "text": [
      "5\n"
     ]
    }
   ],
   "source": [
    "count = 0\n",
    "\n",
    "for movie in data:\n",
    "    if movie[\"Director\"] == \"Peter Jackson\":\n",
    "        count += 1\n",
    "    \n",
    "print(count)"
   ]
  },
  {
   "cell_type": "code",
   "execution_count": 38,
   "id": "ca9134fa-3365-43c2-a682-efb805b3b816",
   "metadata": {
    "tags": []
   },
   "outputs": [
    {
     "name": "stdout",
     "output_type": "stream",
     "text": [
      "The Lord of the Rings: The Return of the King - 8.9\n",
      "The Lord of the Rings: The Fellowship of the Ring - 8.8\n",
      "The Lord of the Rings: The Two Towers - 8.7\n",
      "The Hobbit: The Desolation of Smaug - 7.8\n",
      "The Hobbit: An Unexpected Journey - 7.8\n",
      "Average rating - 8.4\n"
     ]
    }
   ],
   "source": [
    "filtered_movies = []\n",
    "\n",
    "for movie in data:\n",
    "    if movie[\"Director\"] == \"Peter Jackson\":\n",
    "        filtered_movies.append(movie)\n",
    "        \n",
    "total = 0\n",
    "\n",
    "for movie in filtered_movies:\n",
    "    print(f\"{movie['Series_Title']} - {movie['IMDB_Rating']}\")\n",
    "\n",
    "for movie in filtered_movies:\n",
    "    total += float(movie[\"IMDB_Rating\"])\n",
    "    \n",
    "rating_avg = total / len(filtered_movies)\n",
    "\n",
    "print(f\"Average rating - {rating_avg}\")"
   ]
  },
  {
   "cell_type": "code",
   "execution_count": 51,
   "id": "cf0f5df6-d776-4290-93b2-2a7ff7462e83",
   "metadata": {
    "tags": []
   },
   "outputs": [
    {
     "name": "stdout",
     "output_type": "stream",
     "text": [
      "[('Alfred Hitchcock', 14),\n",
      " ('Steven Spielberg', 13),\n",
      " ('Hayao Miyazaki', 11),\n",
      " ('Martin Scorsese', 10),\n",
      " ('Akira Kurosawa', 10)]\n"
     ]
    }
   ],
   "source": [
    "from pprint import pprint\n",
    "from collections import defaultdict\n",
    "\n",
    "group_by_director = defaultdict(int)\n",
    "\n",
    "for movie in data:\n",
    "    group_by_director[movie[\"Director\"]] += 1\n",
    "    \n",
    "sorted_director = sorted(group_by_director.items(), key=lambda x: x[1], reverse=True)\n",
    "\n",
    "pprint(sorted_director[:5])"
   ]
  }
 ],
 "metadata": {
  "kernelspec": {
   "display_name": "Python 3 (ipykernel)",
   "language": "python",
   "name": "python3"
  },
  "language_info": {
   "codemirror_mode": {
    "name": "ipython",
    "version": 3
   },
   "file_extension": ".py",
   "mimetype": "text/x-python",
   "name": "python",
   "nbconvert_exporter": "python",
   "pygments_lexer": "ipython3",
   "version": "3.11.5"
  }
 },
 "nbformat": 4,
 "nbformat_minor": 5
}
