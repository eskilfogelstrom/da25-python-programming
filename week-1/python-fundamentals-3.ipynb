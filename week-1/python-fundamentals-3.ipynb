{
 "cells": [
  {
   "cell_type": "code",
   "execution_count": 10,
   "id": "89663d39-7536-4792-acc2-e184d3a6ed42",
   "metadata": {
    "tags": []
   },
   "outputs": [
    {
     "name": "stdout",
     "output_type": "stream",
     "text": [
      "{'Title': 'Hackers', 'Release Year': 1995, 'Duration': 107}\n"
     ]
    }
   ],
   "source": [
    "movies = [\n",
    "    {\n",
    "        \"Title\": \"Hackers\",\n",
    "        \"Release Year\": 1995,\n",
    "        \"Duration\": 107\n",
    "    },\n",
    "    {\n",
    "        \"Title\": \"WarGames\",\n",
    "        \"Release Year\": 1983,\n",
    "        \"Duration\": 114\n",
    "    }, # ...\n",
    "]\n",
    "\n",
    "\n",
    "min_movie = min(movies, key=lambda x: x[\"Duration\"])\n",
    "\n",
    "print(min_movie)"
   ]
  },
  {
   "cell_type": "code",
   "execution_count": 15,
   "id": "888655b7-1168-4082-9db2-31f30a6725d9",
   "metadata": {
    "tags": []
   },
   "outputs": [
    {
     "name": "stdout",
     "output_type": "stream",
     "text": [
      "Hello\n",
      "This is \n",
      "Some cool content\n"
     ]
    }
   ],
   "source": [
    "with open('file.txt') as my_file:\n",
    "    print(my_file.read())\n",
    "\n"
   ]
  },
  {
   "cell_type": "code",
   "execution_count": 19,
   "id": "b3406d42-3096-4267-a8bb-8e48019a33d7",
   "metadata": {
    "tags": []
   },
   "outputs": [
    {
     "name": "stdout",
     "output_type": "stream",
     "text": [
      "[{'Certificate': 'A',\n",
      "  'Director': 'Frank Darabont',\n",
      "  'Genre': 'Drama',\n",
      "  'Gross': '28,341,469',\n",
      "  'IMDB_Rating': '9.3',\n",
      "  'Meta_score': '80',\n",
      "  'No_of_Votes': '2343110',\n",
      "  'Overview': 'Two imprisoned men bond over a number of years, finding solace '\n",
      "              'and eventual redemption through acts of common decency.',\n",
      "  'Poster_Link': 'https://m.media-amazon.com/images/M/MV5BMDFkYTc0MGEtZmNhMC00ZDIzLWFmNTEtODM1ZmRlYWMwMWFmXkEyXkFqcGdeQXVyMTMxODk2OTU@._V1_UX67_CR0,0,67,98_AL_.jpg',\n",
      "  'Released_Year': '1994',\n",
      "  'Runtime': '142 min',\n",
      "  'Series_Title': 'The Shawshank Redemption',\n",
      "  'Star1': 'Tim Robbins',\n",
      "  'Star2': 'Morgan Freeman',\n",
      "  'Star3': 'Bob Gunton',\n",
      "  'Star4': 'William Sadler'},\n",
      " {'Certificate': 'A',\n",
      "  'Director': 'Francis Ford Coppola',\n",
      "  'Genre': 'Crime, Drama',\n",
      "  'Gross': '134,966,411',\n",
      "  'IMDB_Rating': '9.2',\n",
      "  'Meta_score': '100',\n",
      "  'No_of_Votes': '1620367',\n",
      "  'Overview': \"An organized crime dynasty's aging patriarch transfers control \"\n",
      "              'of his clandestine empire to his reluctant son.',\n",
      "  'Poster_Link': 'https://m.media-amazon.com/images/M/MV5BM2MyNjYxNmUtYTAwNi00MTYxLWJmNWYtYzZlODY3ZTk3OTFlXkEyXkFqcGdeQXVyNzkwMjQ5NzM@._V1_UY98_CR1,0,67,98_AL_.jpg',\n",
      "  'Released_Year': '1972',\n",
      "  'Runtime': '175 min',\n",
      "  'Series_Title': 'The Godfather',\n",
      "  'Star1': 'Marlon Brando',\n",
      "  'Star2': 'Al Pacino',\n",
      "  'Star3': 'James Caan',\n",
      "  'Star4': 'Diane Keaton'}]\n"
     ]
    }
   ],
   "source": [
    "import csv\n",
    "from pprint import pprint\n",
    "\n",
    "with open('imdb_top_1000.csv') as csvfile:\n",
    "    data = list(csv.DictReader(csvfile))\n",
    "\n",
    "pprint(data[:2])\n"
   ]
  }
 ],
 "metadata": {
  "kernelspec": {
   "display_name": "Python 3 (ipykernel)",
   "language": "python",
   "name": "python3"
  },
  "language_info": {
   "codemirror_mode": {
    "name": "ipython",
    "version": 3
   },
   "file_extension": ".py",
   "mimetype": "text/x-python",
   "name": "python",
   "nbconvert_exporter": "python",
   "pygments_lexer": "ipython3",
   "version": "3.11.5"
  }
 },
 "nbformat": 4,
 "nbformat_minor": 5
}
