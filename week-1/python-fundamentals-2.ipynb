{
 "cells": [
  {
   "cell_type": "code",
   "execution_count": 3,
   "id": "614772bd-a0d4-4e47-a18c-52e6e1ea6286",
   "metadata": {
    "tags": []
   },
   "outputs": [
    {
     "name": "stdout",
     "output_type": "stream",
     "text": [
      "10\n",
      "[10, 10]\n",
      "[5, 10]\n"
     ]
    }
   ],
   "source": [
    "a = 10\n",
    "b = a\n",
    "\n",
    "a = 5\n",
    "\n",
    "print(b)\n",
    "\n",
    "a = [10, 10]\n",
    "b = a\n",
    "\n",
    "a = [5, 10]\n",
    "\n",
    "print(b)\n",
    "\n",
    "a = [10, 10]\n",
    "b = a\n",
    "\n",
    "a[0] = 5\n",
    "\n",
    "print(b)\n"
   ]
  },
  {
   "cell_type": "code",
   "execution_count": 5,
   "id": "952b711e-6db1-4ea9-ad64-85ff9dfc4c1c",
   "metadata": {
    "tags": []
   },
   "outputs": [
    {
     "name": "stdout",
     "output_type": "stream",
     "text": [
      "[183, 174, 165]\n"
     ]
    }
   ],
   "source": [
    "heights = [165, 183, 174]\n",
    "\n",
    "heights.sort(reverse=True)\n",
    "\n",
    "print(heights) # [165, 174, 183]\n"
   ]
  },
  {
   "cell_type": "code",
   "execution_count": 12,
   "id": "5ab0cd48-d470-43a4-acb1-5d6eec47451a",
   "metadata": {
    "tags": []
   },
   "outputs": [
    {
     "data": {
      "text/plain": [
       "0"
      ]
     },
     "execution_count": 12,
     "metadata": {},
     "output_type": "execute_result"
    }
   ],
   "source": [
    "email_addresses = [\n",
    "    \"dragonslayer99@gmail.com\",\n",
    "    \"ronaldoisbest7@hotmail.com\",\n",
    "    \"unicornsparkle88@yahoo.com\",\n",
    "    \"ninjawarrior2000@gmail.com\",\n",
    "    \"pixie_dust_fairy@hotmail.com\",\n",
    "    \"skateborderdude@yahoo.com\",b\n",
    "    \"moonwalker_michael@gmail.com\",\n",
    "    \"thewizardofcode@hotmail.com\",\n",
    "    \"fluffybunnyhugs@yahoo.com\",\n",
    "    \"alienhunterxfiles@gmail.com\",\n",
    "    \"piratesofthecaribbean@hotmail.com\",\n",
    "    \"rockstar_guitarist@yahoo.com\",\n",
    "    \"retrogamer_64@gmail.com\",\n",
    "    \"spellbinding_witch@hotmail.com\",\n",
    "    \"funkydisco_dancer@yahoo.com\",\n",
    "    \"galacticexplorer@gmail.com\",\n",
    "    \"mystical_mermaid@hotmail.com\",\n",
    "    \"cookie_monster@yahoo.com\",\n",
    "    \"crazy_cat_lady@gmail.com\",\n",
    "    \"thelastsamurai@hotmail.com\"\n",
    "]\n",
    "\n",
    "count = 0\n",
    "\n",
    "filtered_list = []\n"
   ]
  },
  {
   "cell_type": "code",
   "execution_count": 19,
   "id": "a8672d20-1619-42bd-8507-ca95d4ccaedf",
   "metadata": {
    "tags": []
   },
   "outputs": [
    {
     "name": "stdout",
     "output_type": "stream",
     "text": [
      "['01/15/2023', '02/17/2023', '03/19/2023', '04/20/2023', '05/25/2023']\n"
     ]
    }
   ],
   "source": [
    "dates = [\n",
    "    \"01-15-2023\",\n",
    "    \"02/17/2023\",\n",
    "    \"03-19-2023\",\n",
    "    \"04/20/2023\",\n",
    "    \"05-25-2023\"\n",
    "]\n",
    "\n",
    "# formatted_dates = [date.replace(\"-\", \"/\") for date in dates]\n",
    "\n",
    "for date in dates:\n",
    "    formatted_dates.append(date.replace(\"-\", \"/\"))\n",
    "    \n",
    "print(formatted_dates)\n",
    "    "
   ]
  },
  {
   "cell_type": "code",
   "execution_count": 33,
   "id": "6b2740aa-7b92-4940-af15-e6671471a6a1",
   "metadata": {
    "tags": []
   },
   "outputs": [
    {
     "name": "stdout",
     "output_type": "stream",
     "text": [
      "2\n",
      "5\n"
     ]
    }
   ],
   "source": [
    "text = \"Hello this is some boring example text\"\n",
    "\n",
    "count = 0\n",
    "\n",
    "for letter in text.lower():\n",
    "    if letter == \"h\":\n",
    "        count += 1\n",
    "    \n",
    "print(count)\n",
    "\n",
    "text = \"Hello this is some boring example text\"\n",
    "\n",
    "print(text.count(\"e\"))\n"
   ]
  },
  {
   "cell_type": "code",
   "execution_count": 35,
   "id": "6c3880a3-f0fc-4e52-8682-a51d7ba44ce7",
   "metadata": {
    "tags": []
   },
   "outputs": [
    {
     "data": {
      "text/plain": [
       "['Documentary', 'Comedy', 'Horror']"
      ]
     },
     "execution_count": 35,
     "metadata": {},
     "output_type": "execute_result"
    }
   ],
   "source": [
    "listed_in = \"Documentary,Comedy,Horror\"\n",
    "\n",
    "genres = listed_in.split(\",\")\n",
    "\n",
    "genres"
   ]
  },
  {
   "cell_type": "code",
   "execution_count": 48,
   "id": "9f90dad2-db03-49e7-9d35-d32c78bcb6f6",
   "metadata": {
    "tags": []
   },
   "outputs": [
    {
     "name": "stdout",
     "output_type": "stream",
     "text": [
      "Afghanistan: 42239854\n",
      "Albania: 42239854\n",
      "Algeria: 42239854\n"
     ]
    }
   ],
   "source": [
    "countries = {\n",
    "    \"Afghanistan\": {\n",
    "        \"population\": 42_239_854,\n",
    "        \"size\": 1000,\n",
    "    },\n",
    "    \"Albania\":{\n",
    "        \"population\": 42_239_854,\n",
    "        \"size\": 1000,\n",
    "    },\n",
    "    \"Algeria\":{\n",
    "        \"population\": 42_239_854,\n",
    "        \"size\": 1000,\n",
    "    },\n",
    "}\n",
    "\n",
    "for pair in countries.items():\n",
    "    country = pair[0]\n",
    "    population = pair[1][\"population\"]\n",
    "    print(f\"{country}: {population}\")\n"
   ]
  },
  {
   "cell_type": "code",
   "execution_count": 71,
   "id": "47008665-b26b-4fd6-bb14-e992ff39d8ff",
   "metadata": {
    "tags": []
   },
   "outputs": [
    {
     "name": "stdout",
     "output_type": "stream",
     "text": [
      "[('Antarctica', 1106), ('Anguilla', 15094), ('American Samoa', 55465), ('Andorra', 77006), ('Antigua and Barbuda', 96286)]\n"
     ]
    }
   ],
   "source": [
    "countries = {\n",
    "    \"Afghanistan\": 37172386,\n",
    "    \"Albania\": 2866376,\n",
    "    \"Algeria\": 42228429,\n",
    "    \"American Samoa\": 55465,\n",
    "    \"Andorra\": 77006,\n",
    "    \"Angola\": 30809762,\n",
    "    \"Anguilla\": 15094,\n",
    "    \"Antarctica\": 1106,\n",
    "    \"Antigua and Barbuda\": 96286,\n",
    "    \"Argentina\": 44494502,\n",
    "    \"Armenia\": 2951776,\n",
    "    \"Aruba\": 105845,\n",
    "    \"Australia\": 24982688,\n",
    "    \"Austria\": 8840521,\n",
    "    \"Azerbaijan\": 9939800,\n",
    "    \"Bahamas\": 385640,\n",
    "    \"Bahrain\": 1569439,\n",
    "    \"Bangladesh\": 161356039,\n",
    "    \"Barbados\": 286641,\n",
    "    \"Belarus\": 9483499\n",
    "}\n",
    "\n",
    "\n",
    "def pick_key(pair):\n",
    "    return pair[1]\n",
    "\n",
    "sorted_countries = sorted(countries.items(), key=lambda pair: pair[1])\n",
    "\n",
    "\n",
    "\n",
    "print(sorted_countries[:5])"
   ]
  },
  {
   "cell_type": "code",
   "execution_count": 63,
   "id": "cd5df5b1-0c5a-445a-8e1b-ef2fbee13f3b",
   "metadata": {
    "tags": []
   },
   "outputs": [
    {
     "name": "stdout",
     "output_type": "stream",
     "text": [
      "[('bananas', 1), ('oranges', 2), ('apples', 4)]\n"
     ]
    }
   ],
   "source": [
    "fruits = {\n",
    "    \"bananas\": 1,\n",
    "    \"apples\": 4,\n",
    "    \"oranges\": 2\n",
    "}\n",
    "\n",
    "min_fruit = sorted(fruits.items(), key=lambda pair: pair[1])\n",
    "\n",
    "print(min_fruit)\n"
   ]
  }
 ],
 "metadata": {
  "kernelspec": {
   "display_name": "Python 3 (ipykernel)",
   "language": "python",
   "name": "python3"
  },
  "language_info": {
   "codemirror_mode": {
    "name": "ipython",
    "version": 3
   },
   "file_extension": ".py",
   "mimetype": "text/x-python",
   "name": "python",
   "nbconvert_exporter": "python",
   "pygments_lexer": "ipython3",
   "version": "3.11.5"
  }
 },
 "nbformat": 4,
 "nbformat_minor": 5
}
