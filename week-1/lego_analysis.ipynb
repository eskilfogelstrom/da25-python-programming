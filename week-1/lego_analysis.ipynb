{
 "cells": [
  {
   "cell_type": "markdown",
   "id": "2731482c-1ab1-4e79-8418-c645b0efba5d",
   "metadata": {},
   "source": [
    "# Lego set analysis\n",
    "This is the weekly brief where we'll try with just vanilla Python load a dataset and answer some questions:\n",
    "- How many sets have been released during the year 2000?\n",
    "- Which theme has more sets - City or Star Wars?\n",
    "- What is the average (mean) amount of pieces in a set (excluding sets without pieces)?\n",
    "- What are the top 10 themes containing the most sets?"
   ]
  },
  {
   "cell_type": "markdown",
   "id": "5e949713-8411-41c4-84df-63e6f4dbe116",
   "metadata": {},
   "source": [
    "## 1. Load and parse the CSV\n",
    "In order to get the data in a format to work with we'll open the CSV file and use the built-in DictReader to convert it into a list of dictionaries."
   ]
  },
  {
   "cell_type": "code",
   "execution_count": 1,
   "id": "63fc43d0-e052-4501-942b-67759537fad9",
   "metadata": {
    "tags": []
   },
   "outputs": [
    {
     "name": "stdout",
     "output_type": "stream",
     "text": [
      "{'Availability': '{Not specified}',\n",
      " 'Category': 'Normal',\n",
      " 'Current_Price': '',\n",
      " 'Minifigures': '',\n",
      " 'Name': 'PreSchool Set',\n",
      " 'Num_Instructions': '0',\n",
      " 'Owned': '10.0',\n",
      " 'Packaging': '{Not specified}',\n",
      " 'Pieces': '16.0',\n",
      " 'Rating': '0.0',\n",
      " 'Set_ID': '75-1',\n",
      " 'Subtheme': '',\n",
      " 'Theme': 'PreSchool',\n",
      " 'Theme_Group': 'Pre-school',\n",
      " 'Total_Quantity': '',\n",
      " 'USD_MSRP': '',\n",
      " 'Year': '1975'}\n"
     ]
    }
   ],
   "source": [
    "import csv\n",
    "from pprint import pprint\n",
    "\n",
    "with open(\"lego_sets.csv\", encoding=\"utf8\") as csvfile:\n",
    "    # DictReader returns a generator which means it will read the file line by line.\n",
    "    # We want to go through the entire file and convert it into a list so that we can use it.\n",
    "    # That's why we wrap it in `list()`    \n",
    "    data = list(csv.DictReader(csvfile))\n",
    "    \n",
    "pprint(data[0])"
   ]
  },
  {
   "cell_type": "markdown",
   "id": "7ae541b9-2dcd-4564-bd2f-37f9232edabd",
   "metadata": {
    "tags": []
   },
   "source": [
    "## 2. Transforming\n",
    "Looking at the data sample above we see that everything is a string. In order to make things easier to work with let's do some transformation of the data and convert it into the right data types."
   ]
  },
  {
   "cell_type": "code",
   "execution_count": 2,
   "id": "88bd3a51-0e48-4196-a210-49803c746b83",
   "metadata": {
    "tags": []
   },
   "outputs": [],
   "source": [
    "for lego_set in data:\n",
    "    if lego_set[\"Pieces\"]:\n",
    "        lego_set[\"Pieces\"] = float(lego_set[\"Pieces\"])\n",
    "        "
   ]
  },
  {
   "cell_type": "markdown",
   "id": "4f4a1831-83da-4f58-9663-ea59dbdf9717",
   "metadata": {},
   "source": [
    "## 3. Analysis\n",
    "Now we can start doing some analysis."
   ]
  },
  {
   "cell_type": "markdown",
   "id": "6cbee919-83d8-48f8-9a2f-d89b1edfbfcf",
   "metadata": {},
   "source": [
    "### 3.1 How many sets have been released during the year 2000?"
   ]
  },
  {
   "cell_type": "code",
   "execution_count": 3,
   "id": "0582cdb9-9fdd-4d38-b300-84779f08dd19",
   "metadata": {
    "tags": []
   },
   "outputs": [
    {
     "name": "stdout",
     "output_type": "stream",
     "text": [
      "384\n"
     ]
    }
   ],
   "source": [
    "# Using a simple for-loop\n",
    "\n",
    "count_2000 = 0\n",
    "\n",
    "for lego_set in data:\n",
    "    if lego_set[\"Year\"] == \"2000\":\n",
    "        count_2000 += 1\n",
    "        \n",
    "print(count_2000)"
   ]
  },
  {
   "cell_type": "code",
   "execution_count": 4,
   "id": "243af045-7b24-4388-b8b8-4eef606c3293",
   "metadata": {
    "tags": []
   },
   "outputs": [
    {
     "name": "stdout",
     "output_type": "stream",
     "text": [
      "384\n"
     ]
    }
   ],
   "source": [
    "# Using a filtered list\n",
    "\n",
    "filtered_data = [lego_set for lego_set in data if lego_set[\"Year\"] == \"2000\"]\n",
    "\n",
    "print(len(filtered_data))"
   ]
  },
  {
   "cell_type": "code",
   "execution_count": 5,
   "id": "457069cf-7f24-48a0-8710-ddc98af79b7a",
   "metadata": {
    "tags": []
   },
   "outputs": [
    {
     "name": "stdout",
     "output_type": "stream",
     "text": [
      "384\n"
     ]
    }
   ],
   "source": [
    "# Using a defaultdict to group by year\n",
    "\n",
    "from collections import defaultdict\n",
    "\n",
    "group_by_year = defaultdict(int)\n",
    "\n",
    "for lego_set in data:\n",
    "    group_by_year[lego_set[\"Year\"]] += 1\n",
    "    \n",
    "print(group_by_year[\"2000\"])"
   ]
  },
  {
   "cell_type": "markdown",
   "id": "0d702c8e-0178-42b6-8113-41b9ce29179d",
   "metadata": {},
   "source": [
    "### 3.2 Which theme has more sets - City or Star Wars?"
   ]
  },
  {
   "cell_type": "code",
   "execution_count": 6,
   "id": "9b5f547a-b4ec-4085-a717-7e2784a43ad7",
   "metadata": {
    "tags": []
   },
   "outputs": [
    {
     "name": "stdout",
     "output_type": "stream",
     "text": [
      "770\n",
      "723\n"
     ]
    }
   ],
   "source": [
    "# Using a simple for-loop\n",
    "\n",
    "count_city = 0\n",
    "count_starwars = 0\n",
    "\n",
    "for lego_set in data:\n",
    "    if lego_set[\"Theme\"] == \"City\":\n",
    "        count_city += 1\n",
    "    elif lego_set[\"Theme\"] == \"Star Wars\":\n",
    "        count_starwars += 1\n",
    "        \n",
    "print(count_city)\n",
    "print(count_starwars)"
   ]
  },
  {
   "cell_type": "code",
   "execution_count": 7,
   "id": "0e988ab3-8226-4797-9d0b-a461699a01b7",
   "metadata": {
    "tags": []
   },
   "outputs": [
    {
     "name": "stdout",
     "output_type": "stream",
     "text": [
      "Lego City - 770 sets\n",
      "Lego Star Wars - 723 sets\n"
     ]
    }
   ],
   "source": [
    "# Using a defaultdict to group by theme\n",
    "\n",
    "from collections import defaultdict\n",
    "\n",
    "group_by_theme = defaultdict(int)\n",
    "\n",
    "for lego_set in data:\n",
    "    group_by_theme[lego_set[\"Theme\"]] += 1\n",
    "    \n",
    "print(f\"Lego City - {group_by_theme['City']} sets\")\n",
    "print(f\"Lego Star Wars - {group_by_theme['Star Wars']} sets\")"
   ]
  },
  {
   "cell_type": "markdown",
   "id": "e960a0b8-f8e4-45a3-afd1-d2fb6ea304c4",
   "metadata": {},
   "source": [
    "### 3.3 What is the average (mean) amount of pieces in a set (excluding sets without pieces)?"
   ]
  },
  {
   "cell_type": "code",
   "execution_count": 8,
   "id": "f65dd30d-80bb-4184-a197-e6670e435e3a",
   "metadata": {
    "tags": []
   },
   "outputs": [
    {
     "name": "stdout",
     "output_type": "stream",
     "text": [
      "238.15334197088637\n"
     ]
    }
   ],
   "source": [
    "# Using a for-loop\n",
    "\n",
    "sum_pieces = 0\n",
    "count_pieces = 0\n",
    "\n",
    "for lego_set in data:\n",
    "    if lego_set[\"Pieces\"]: # Exclude all sets with no pieces defined\n",
    "        sum_pieces += lego_set[\"Pieces\"]\n",
    "        count_pieces += 1\n",
    "\n",
    "print(sum_pieces / count_pieces)"
   ]
  },
  {
   "cell_type": "code",
   "execution_count": 9,
   "id": "f3353dbf-4bae-4584-8424-e7455c02c601",
   "metadata": {
    "tags": []
   },
   "outputs": [
    {
     "name": "stdout",
     "output_type": "stream",
     "text": [
      "238.15334197088637\n"
     ]
    }
   ],
   "source": [
    "# Using a filtered list\n",
    "\n",
    "filtered_data = [lego_set[\"Pieces\"] for lego_set in data if lego_set[\"Pieces\"]]\n",
    "\n",
    "sum_pieces = sum(filtered_data)\n",
    "count_pieces = len(filtered_data)\n",
    "\n",
    "print(sum_pieces / count_pieces)"
   ]
  },
  {
   "cell_type": "markdown",
   "id": "b0f118b3-ec60-4f22-9f0e-21cc40af5d49",
   "metadata": {},
   "source": [
    "### 3.4 What are the top 10 themes containing the most sets?"
   ]
  },
  {
   "cell_type": "code",
   "execution_count": 10,
   "id": "80d007ef-e859-44da-98b8-0c55a942c915",
   "metadata": {
    "tags": []
   },
   "outputs": [
    {
     "name": "stdout",
     "output_type": "stream",
     "text": [
      "Duplo - 1278\n",
      "Gear - 1232\n",
      "Collectable Minifigures - 804\n",
      "City - 770\n",
      "Star Wars - 723\n",
      "Town - 648\n",
      "Creator - 528\n",
      "Technic - 481\n",
      "Friends - 429\n",
      "Basic - 402\n"
     ]
    }
   ],
   "source": [
    "from collections import defaultdict\n",
    "\n",
    "group_by_theme = defaultdict(int)\n",
    "\n",
    "for lego_set in data:\n",
    "    group_by_theme[lego_set[\"Theme\"]] += 1\n",
    "    \n",
    "sorted_themes = sorted(group_by_theme.items(), key=lambda x: x[1], reverse=True)\n",
    "\n",
    "for theme, count in sorted_themes[:10]:\n",
    "    print(f\"{theme} - {count}\")"
   ]
  }
 ],
 "metadata": {
  "kernelspec": {
   "display_name": "Python 3 (ipykernel)",
   "language": "python",
   "name": "python3"
  },
  "language_info": {
   "codemirror_mode": {
    "name": "ipython",
    "version": 3
   },
   "file_extension": ".py",
   "mimetype": "text/x-python",
   "name": "python",
   "nbconvert_exporter": "python",
   "pygments_lexer": "ipython3",
   "version": "3.11.5"
  }
 },
 "nbformat": 4,
 "nbformat_minor": 5
}
