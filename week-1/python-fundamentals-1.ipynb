{
 "cells": [
  {
   "cell_type": "code",
   "execution_count": 1,
   "id": "ce78ef3a-4bc9-4587-8e63-e37f75527251",
   "metadata": {
    "tags": []
   },
   "outputs": [
    {
     "name": "stdout",
     "output_type": "stream",
     "text": [
      "20\n",
      "30\n",
      "2\n",
      "hellohellohellohellohellohellohellohellohellohellohellohellohellohellohellohello\n"
     ]
    }
   ],
   "source": [
    "print(10 + 5 * 2)\n",
    "\n",
    "print((10 + 5) * 2)\n",
    "\n",
    "print(7 % 2 * 2)\n",
    "\n",
    "print(\"hello\" * (4 ** 2))\n"
   ]
  },
  {
   "cell_type": "code",
   "execution_count": 4,
   "id": "611ff7c0-ad20-44ea-ba5b-489e692f18aa",
   "metadata": {
    "tags": []
   },
   "outputs": [
    {
     "name": "stdout",
     "output_type": "stream",
     "text": [
      "1\n"
     ]
    }
   ],
   "source": [
    "count = 0\n",
    "\n",
    "count += 1\n",
    "\n",
    "print(count)"
   ]
  },
  {
   "cell_type": "code",
   "execution_count": 9,
   "id": "a9f6209b-d912-499f-b976-660ba1bf8ca0",
   "metadata": {
    "tags": []
   },
   "outputs": [
    {
     "name": "stdout",
     "output_type": "stream",
     "text": [
      "174\n",
      "184\n",
      "168\n",
      "177\n"
     ]
    }
   ],
   "source": [
    "heights = [174, 184, 168, 177]\n",
    "\n",
    "index = 0\n",
    "\n",
    "while index < len(heights):\n",
    "    height = heights[index]\n",
    "\n",
    "    index += 1\n"
   ]
  },
  {
   "cell_type": "code",
   "execution_count": 13,
   "id": "c7f93840-0818-4a22-aa1e-e47e0b35fabd",
   "metadata": {
    "tags": []
   },
   "outputs": [
    {
     "name": "stdout",
     "output_type": "stream",
     "text": [
      "175.75\n"
     ]
    }
   ],
   "source": [
    "heights = [174, 184, 168, 177]\n",
    "\n",
    "\n",
    "total = 0\n",
    "\n",
    "for height in heights:\n",
    "    total += height\n",
    "\n",
    "print(total / len(heights))"
   ]
  },
  {
   "cell_type": "code",
   "execution_count": 18,
   "id": "f2831716-e6a0-4dd9-ade3-62a5bea1aeb8",
   "metadata": {
    "tags": []
   },
   "outputs": [
    {
     "name": "stdout",
     "output_type": "stream",
     "text": [
      "False\n",
      "False\n",
      "True\n",
      "0.30000000000000004\n"
     ]
    }
   ],
   "source": [
    "test = 10 ** 2 - 6 / 3 > 98\n",
    "print(test)\n",
    "\n",
    "test = f\"Count is {10 ** 2}\" == f\"count is {10 * 10}\"\n",
    "print(test)\n",
    "\n",
    "test = 1000\n",
    "print(test)\n",
    "\n",
    "print(0.1 + 0.2)\n",
    "\n"
   ]
  },
  {
   "cell_type": "code",
   "execution_count": 22,
   "id": "3d59702c-866a-43b3-986b-baa1ba38bd6f",
   "metadata": {
    "tags": []
   },
   "outputs": [
    {
     "name": "stdout",
     "output_type": "stream",
     "text": [
      "Cold\n"
     ]
    }
   ],
   "source": [
    "temperature = 3\n",
    "\n",
    "\n",
    "if temperature > 10:\n",
    "    print(\"Lukewarm\")\n",
    "elif temperature > 20:\n",
    "    print(\"Warm\")\n",
    "else:\n",
    "    print(\"Cold\")\n"
   ]
  },
  {
   "cell_type": "code",
   "execution_count": 36,
   "id": "3d81cc6d-32ad-4126-9f89-d06d8704c692",
   "metadata": {
    "tags": []
   },
   "outputs": [
    {
     "name": "stdin",
     "output_type": "stream",
     "text": [
      " 15\n",
      " True\n"
     ]
    },
    {
     "ename": "TypeError",
     "evalue": "'>=' not supported between instances of 'str' and 'int'",
     "output_type": "error",
     "traceback": [
      "\u001b[0;31m---------------------------------------------------------------------------\u001b[0m",
      "\u001b[0;31mTypeError\u001b[0m                                 Traceback (most recent call last)",
      "Cell \u001b[0;32mIn[36], line 4\u001b[0m\n\u001b[1;32m      1\u001b[0m age \u001b[38;5;241m=\u001b[39m \u001b[38;5;28minput\u001b[39m()\n\u001b[1;32m      2\u001b[0m is_supervised \u001b[38;5;241m=\u001b[39m \u001b[38;5;28minput\u001b[39m()\n\u001b[0;32m----> 4\u001b[0m \u001b[38;5;28;01mif\u001b[39;00m age \u001b[38;5;241m>\u001b[39m\u001b[38;5;241m=\u001b[39m \u001b[38;5;241m15\u001b[39m:\n\u001b[1;32m      5\u001b[0m     \u001b[38;5;28mprint\u001b[39m(\u001b[38;5;124m\"\u001b[39m\u001b[38;5;124mIs eligible\u001b[39m\u001b[38;5;124m\"\u001b[39m)\n\u001b[1;32m      6\u001b[0m \u001b[38;5;28;01melif\u001b[39;00m age \u001b[38;5;241m>\u001b[39m\u001b[38;5;241m=\u001b[39m \u001b[38;5;241m10\u001b[39m \u001b[38;5;129;01mand\u001b[39;00m is_supervised:\n",
      "\u001b[0;31mTypeError\u001b[0m: '>=' not supported between instances of 'str' and 'int'"
     ]
    }
   ],
   "source": [
    "age = input()\n",
    "is_supervised = input()\n",
    "\n",
    "if age >= 15:\n",
    "    print(\"Is eligible\")\n",
    "elif age >= 10 and is_supervised:\n",
    "    print(\"Is eligible\")\n",
    "else:\n",
    "    print(\"Not eligible\")"
   ]
  },
  {
   "cell_type": "code",
   "execution_count": 35,
   "id": "4c23b2b0-7eb8-42b8-9c8a-ab5aabfc78b2",
   "metadata": {
    "tags": []
   },
   "outputs": [
    {
     "name": "stdout",
     "output_type": "stream",
     "text": [
      "Truthy\n"
     ]
    }
   ],
   "source": [
    "number = 14\n",
    "name = \"\"\n",
    "\n",
    "heights = []\n",
    "\n",
    "if number == True:\n",
    "    print(\"Truthy\")\n",
    "    "
   ]
  },
  {
   "cell_type": "code",
   "execution_count": 43,
   "id": "7402d6f0-3c46-4c4b-a62c-9f1cad56db77",
   "metadata": {
    "tags": []
   },
   "outputs": [
    {
     "name": "stdout",
     "output_type": "stream",
     "text": [
      "199\n"
     ]
    }
   ],
   "source": [
    "heights = [174, 184, 168, 177, 199]\n",
    "\n",
    "max_height = heights[0]\n",
    "\n",
    "for height in heights:\n",
    "        if height > max_height:\n",
    "            max_height = height\n",
    "            \n",
    "print(max_height)"
   ]
  },
  {
   "cell_type": "code",
   "execution_count": 49,
   "id": "8b69dc29-117e-45a3-ae5b-ef1674cfa68d",
   "metadata": {
    "tags": []
   },
   "outputs": [
    {
     "name": "stdout",
     "output_type": "stream",
     "text": [
      "174\n",
      "174\n",
      "-\n",
      "174\n",
      "184\n",
      "-\n",
      "174\n",
      "168\n",
      "-\n",
      "168\n",
      "177\n",
      "-\n",
      "168\n",
      "199\n",
      "-\n",
      "168\n"
     ]
    }
   ],
   "source": [
    "heights = [174, 184, 168, 177, 199]\n",
    "\n",
    "min_height = heights[0]\n",
    "\n",
    "for height in heights:\n",
    "        if height < min_height:\n",
    "            min_height = height\n",
    "            \n",
    "print(min_height)"
   ]
  },
  {
   "cell_type": "code",
   "execution_count": 51,
   "id": "2dda71bf-1bc9-4174-a206-51ffab2b444c",
   "metadata": {
    "tags": []
   },
   "outputs": [
    {
     "name": "stdout",
     "output_type": "stream",
     "text": [
      "2\n"
     ]
    }
   ],
   "source": [
    "heights = [135, 164, 199, 171]\n",
    "\n",
    "filtered_list = []\n",
    "\n",
    "for height in heights:\n",
    "    if height < 170:\n",
    "        filtered_list.append(height)\n",
    "\n",
    "print(len(filtered_list))\n"
   ]
  },
  {
   "cell_type": "code",
   "execution_count": 55,
   "id": "01b44bb2-1a7c-4702-9744-075119261352",
   "metadata": {
    "tags": []
   },
   "outputs": [
    {
     "name": "stdout",
     "output_type": "stream",
     "text": [
      "[164, 171]\n"
     ]
    }
   ],
   "source": [
    "heights = [135, 164, 199, 171]\n",
    "\n",
    "filtered_list = []\n",
    "\n",
    "for height in heights:\n",
    "    if 140 <= height <= 190:\n",
    "        filtered_list.append(height)\n",
    "\n",
    "print(filtered_list)\n"
   ]
  },
  {
   "cell_type": "code",
   "execution_count": 61,
   "id": "3fdf8fb9-5df0-45c9-9c6d-90366b1d5abd",
   "metadata": {
    "tags": []
   },
   "outputs": [
    {
     "name": "stdout",
     "output_type": "stream",
     "text": [
      "15\n"
     ]
    }
   ],
   "source": [
    "def sum(a, b):\n",
    "    return a + b\n",
    "\n",
    "result = sum(5, 10)\n",
    "\n",
    "print(result)"
   ]
  }
 ],
 "metadata": {
  "kernelspec": {
   "display_name": "Python 3 (ipykernel)",
   "language": "python",
   "name": "python3"
  },
  "language_info": {
   "codemirror_mode": {
    "name": "ipython",
    "version": 3
   },
   "file_extension": ".py",
   "mimetype": "text/x-python",
   "name": "python",
   "nbconvert_exporter": "python",
   "pygments_lexer": "ipython3",
   "version": "3.11.5"
  }
 },
 "nbformat": 4,
 "nbformat_minor": 5
}
